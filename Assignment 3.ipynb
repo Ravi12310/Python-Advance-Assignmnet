{
 "cells": [
  {
   "cell_type": "code",
   "execution_count": null,
   "metadata": {},
   "outputs": [],
   "source": [
    "1. What is the concept of an abstract superclass?\n",
    "\n",
    "\n",
    "An abstract class can be considered as a blueprint for other classes. It allows you to create a set of methods that must \n",
    "be created within any child classes built from the abstract class. A class which contains one or more abstract methods \n",
    "is called an abstract class."
   ]
  },
  {
   "cell_type": "code",
   "execution_count": null,
   "metadata": {},
   "outputs": [],
   "source": [
    "2. What happens when a class statement top level contains a basic assignment statement?\n",
    "\n",
    "\n",
    "Basically it is like a class and class name for the class and by using this we can get an idea of the values or statements."
   ]
  },
  {
   "cell_type": "code",
   "execution_count": null,
   "metadata": {},
   "outputs": [],
   "source": [
    "3. Why does a class need to manually call a superclass __init__ method?\n",
    "\n",
    "\n",
    "If you add variables to self in the constructor of Class and don't call Class.__init__() in the constructor of Subclass, \n",
    "then these variables will not be in your Subclass object."
   ]
  },
  {
   "cell_type": "code",
   "execution_count": null,
   "metadata": {},
   "outputs": [],
   "source": [
    "4. How can you augment, instead of completely replacing, an inherited method?\n",
    "\n",
    "\n",
    "we can use decorated like this\n",
    "def method_decorator(f):\n",
    "    def wrapper(self, *args, **kwargs):\n",
    "        print('this spam has been poisoned!')\n",
    "        return f(self)\n",
    "    return wrapper\n",
    "\n",
    "class Spam:\n",
    "    def update(self):\n",
    "        print('updating spam!')\n",
    "\n",
    "    @method_decorator\n",
    "    def update2(self):\n",
    "        print('updating spam!')\n",
    "\n",
    "Spam().update()\n",
    "Spam().update2()"
   ]
  },
  {
   "cell_type": "code",
   "execution_count": null,
   "metadata": {},
   "outputs": [],
   "source": [
    "5. How is the local scope of a class different from that of a function?\n",
    "\n",
    "\n",
    "Local scope is scoped within the function- ie those variables created within the function and those parameters \n",
    "passed to the function.\n",
    "Global scope are those names defined by the module."
   ]
  },
  {
   "cell_type": "code",
   "execution_count": null,
   "metadata": {},
   "outputs": [],
   "source": []
  },
  {
   "cell_type": "code",
   "execution_count": null,
   "metadata": {},
   "outputs": [],
   "source": []
  },
  {
   "cell_type": "code",
   "execution_count": null,
   "metadata": {},
   "outputs": [],
   "source": []
  },
  {
   "cell_type": "code",
   "execution_count": null,
   "metadata": {},
   "outputs": [],
   "source": []
  },
  {
   "cell_type": "code",
   "execution_count": null,
   "metadata": {},
   "outputs": [],
   "source": []
  }
 ],
 "metadata": {
  "kernelspec": {
   "display_name": "Python 3",
   "language": "python",
   "name": "python3"
  },
  "language_info": {
   "codemirror_mode": {
    "name": "ipython",
    "version": 3
   },
   "file_extension": ".py",
   "mimetype": "text/x-python",
   "name": "python",
   "nbconvert_exporter": "python",
   "pygments_lexer": "ipython3",
   "version": "3.8.5"
  }
 },
 "nbformat": 4,
 "nbformat_minor": 4
}
