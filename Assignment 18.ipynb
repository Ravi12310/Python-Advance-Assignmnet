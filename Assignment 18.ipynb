{
 "cells": [
  {
   "cell_type": "code",
   "execution_count": null,
   "id": "0e2b05e9",
   "metadata": {},
   "outputs": [],
   "source": [
    "Q1. Describe the differences between text and binary files in a single paragraph.\n",
    "\n",
    "\n",
    "test files means which is like a readable format and we can read by seeing the text directly\n",
    "binary files means which is like a 0 and 1 and we cannot read directly by seeing it we want to convert or change option\n",
    "directly to read."
   ]
  },
  {
   "cell_type": "code",
   "execution_count": null,
   "id": "50898e91",
   "metadata": {},
   "outputs": [],
   "source": [
    "Q2. What are some scenarios where using text files will be the better option? When would you like to\n",
    "use binary files instead of text files?\n",
    "\n",
    "\n",
    "By using the text file we can read directly and anyone can share that texts and it is like a not encrypted one and by using\n",
    "test files we can perform fastly our operations\n",
    "Binary files is like when another person not able to read directly our messages or for encrypting we can use a binary files\n",
    "and in industry we can get the lot of pickle format or binary files will come."
   ]
  },
  {
   "cell_type": "code",
   "execution_count": null,
   "id": "ae94b60d",
   "metadata": {},
   "outputs": [],
   "source": [
    "Q3. What are some of the issues with using binary operations to read and write a Python integer\n",
    "directly to disc?\n",
    "\n",
    "\n",
    "Using Python bitwise operators to manipulate individual bits Read and write binary data in a platform agnostic way\n",
    "Use bitmasks to pack This has to do with how Python represents integers internally"
   ]
  },
  {
   "cell_type": "code",
   "execution_count": null,
   "id": "9b050196",
   "metadata": {},
   "outputs": [],
   "source": [
    "Q4. Describe a benefit of using the with keyword instead of explicitly opening a file.\n",
    "\n",
    "\n",
    "with keyword is like a general keyword is there in a built in functions by using with we can open any files and it can open\n",
    "files and it is a easy function and performs and our code is some less compared to create a function without using with keyword"
   ]
  },
  {
   "cell_type": "code",
   "execution_count": null,
   "id": "75bc3b77",
   "metadata": {},
   "outputs": [],
   "source": [
    "Q5. Does Python have the trailing newline while reading a line of text? Does Python append a\n",
    "newline when you write a line of text?\n",
    "\n",
    "\n",
    "Yes python have the newline concept and by using the newline we can create and jump that perticular to newline directly"
   ]
  },
  {
   "cell_type": "code",
   "execution_count": null,
   "id": "9f13ae09",
   "metadata": {},
   "outputs": [],
   "source": [
    "Q6. What file operations enable for random-access operation?\n",
    "\n",
    "\n",
    "There is a some concepts like sequential methods, direct access and sequential access which will gets the file operations\n",
    "randomly and gets the result."
   ]
  },
  {
   "cell_type": "code",
   "execution_count": null,
   "id": "8fb5042a",
   "metadata": {},
   "outputs": [],
   "source": [
    "Q7. When do you think you'll use the struct package the most?\n",
    "\n",
    "\n",
    "\n",
    "The struct module in Python is used to convert native Python data types such as strings and numbers into a \n",
    "string of bytes and vice versa.  this  can parse binary files of data stored in C structs in Python.\n",
    "It is used mostly for handling binary data stored in files or from network connections, among other sources."
   ]
  },
  {
   "cell_type": "code",
   "execution_count": null,
   "id": "ba436a17",
   "metadata": {},
   "outputs": [],
   "source": [
    "Q8. When is pickling the best option?\n",
    "\n",
    "\n",
    "If we don't need a human-readable format or a standard interoperable format, or if you need to serialize custom objects, \n",
    "then go with pickle ."
   ]
  },
  {
   "cell_type": "code",
   "execution_count": null,
   "id": "00aead98",
   "metadata": {},
   "outputs": [],
   "source": [
    "Q9. When will it be best to use the shelve package?\n",
    "\n",
    "\n",
    "The shelve module can be used as a simple persistent storage option for Python objects when a relational database is \n",
    "overkill. The shelf is accessed by keys, just as with a dictionary. \n",
    "The values are pickled and written to a database created and managed by anydbm."
   ]
  },
  {
   "cell_type": "code",
   "execution_count": null,
   "id": "85e8b4c0",
   "metadata": {},
   "outputs": [],
   "source": [
    "Q10. What is a special restriction when using the shelve package, as opposed to using other data\n",
    "dictionaries?\n",
    "\n",
    "\n",
    "The shelve module in ... The shelf dictionary has certain restrictions. Only string data type can be used as key in this\n",
    "special dictionary object, whereas any picklable Python object can be used as value"
   ]
  },
  {
   "cell_type": "code",
   "execution_count": null,
   "id": "7da3d6c2",
   "metadata": {},
   "outputs": [],
   "source": []
  },
  {
   "cell_type": "code",
   "execution_count": null,
   "id": "f7cdfa9e",
   "metadata": {},
   "outputs": [],
   "source": []
  }
 ],
 "metadata": {
  "kernelspec": {
   "display_name": "Python 3",
   "language": "python",
   "name": "python3"
  },
  "language_info": {
   "codemirror_mode": {
    "name": "ipython",
    "version": 3
   },
   "file_extension": ".py",
   "mimetype": "text/x-python",
   "name": "python",
   "nbconvert_exporter": "python",
   "pygments_lexer": "ipython3",
   "version": "3.8.8"
  }
 },
 "nbformat": 4,
 "nbformat_minor": 5
}
