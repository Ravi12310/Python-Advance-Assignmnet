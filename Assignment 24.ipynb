{
 "cells": [
  {
   "cell_type": "code",
   "execution_count": null,
   "id": "9f567033",
   "metadata": {},
   "outputs": [],
   "source": [
    "Q1. Is it permissible to use several import statements to import the same module? What would the\n",
    "goal be? Can you think of a situation where it would be beneficial?\n",
    "\n",
    "\n",
    "\n",
    "We can import pre defined functions and our own functions and we can import it when ever we wants and we can import that how\n",
    "our import statements can import it to a same module. It would be benefited by our time and complexity of the code etc."
   ]
  },
  {
   "cell_type": "code",
   "execution_count": null,
   "id": "93379ac3",
   "metadata": {},
   "outputs": [],
   "source": [
    "Q2. What are some of a module's characteristics? (Name at least one.)\n",
    "\n",
    "\n",
    "A module is a file with python code. The code can be in the form of variables, functions, or class defined. \n",
    "The filename becomes the module name.\n",
    "from module import statement\n",
    "By using the module  we cannot want to write the complete code all the time and we can use it whenever we wants."
   ]
  },
  {
   "cell_type": "code",
   "execution_count": null,
   "id": "76d7321a",
   "metadata": {},
   "outputs": [],
   "source": [
    "Q3. Why is _ _all_ _ in Python?\n",
    "\n",
    "\n",
    "\n",
    "It's a list of public objects of that module, as interpreted by import *. \n",
    "It overrides the default of hiding everything that begins with an underscore."
   ]
  },
  {
   "cell_type": "code",
   "execution_count": null,
   "id": "21bf85e1",
   "metadata": {},
   "outputs": [],
   "source": [
    "Q4. In what situation is it useful to refer to the _ _name_ _ attribute or the string '_ _main_ _'?\n",
    "\n",
    "\n",
    "\n",
    "When creating the flask app we can use this terminology and by that we are initializing the name and '__main__' will \n",
    "gets the method of the name which runs smoothly"
   ]
  },
  {
   "cell_type": "code",
   "execution_count": null,
   "id": "bdf0acec",
   "metadata": {},
   "outputs": [],
   "source": [
    "Q5. What are some of the benefits of attaching a program counter to the RPN interpreter\n",
    "application, which interprets an RPN script line by line?\n",
    "\n",
    "\n",
    "\n",
    "An advantage of reverse Polish notation is that it removes the need for parentheses that are required by infix notation.\n",
    "While 3 − 4 × 5 can also be written 3 − (4 × 5), that means something quite different from (3 − 4) × 5. In\n",
    "reverse Polish notation, the former could be written 3 4 5 × −, which unambiguously means 3 (4 5 ×) − which reduces to 3 20"
   ]
  },
  {
   "cell_type": "code",
   "execution_count": null,
   "id": "34d7f95c",
   "metadata": {},
   "outputs": [],
   "source": []
  },
  {
   "cell_type": "code",
   "execution_count": null,
   "id": "f615f168",
   "metadata": {},
   "outputs": [],
   "source": []
  },
  {
   "cell_type": "code",
   "execution_count": null,
   "id": "bff30d66",
   "metadata": {},
   "outputs": [],
   "source": []
  },
  {
   "cell_type": "code",
   "execution_count": null,
   "id": "8c36b0f6",
   "metadata": {},
   "outputs": [],
   "source": []
  },
  {
   "cell_type": "code",
   "execution_count": null,
   "id": "1d98003a",
   "metadata": {},
   "outputs": [],
   "source": []
  },
  {
   "cell_type": "code",
   "execution_count": null,
   "id": "2a82ddcb",
   "metadata": {},
   "outputs": [],
   "source": []
  },
  {
   "cell_type": "code",
   "execution_count": null,
   "id": "4f0f92fc",
   "metadata": {},
   "outputs": [],
   "source": []
  },
  {
   "cell_type": "code",
   "execution_count": null,
   "id": "1a3d5ed9",
   "metadata": {},
   "outputs": [],
   "source": []
  }
 ],
 "metadata": {
  "kernelspec": {
   "display_name": "Python 3",
   "language": "python",
   "name": "python3"
  },
  "language_info": {
   "codemirror_mode": {
    "name": "ipython",
    "version": 3
   },
   "file_extension": ".py",
   "mimetype": "text/x-python",
   "name": "python",
   "nbconvert_exporter": "python",
   "pygments_lexer": "ipython3",
   "version": "3.8.8"
  }
 },
 "nbformat": 4,
 "nbformat_minor": 5
}
