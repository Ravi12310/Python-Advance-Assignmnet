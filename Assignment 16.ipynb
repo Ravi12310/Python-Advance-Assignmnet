{
 "cells": [
  {
   "cell_type": "code",
   "execution_count": null,
   "metadata": {},
   "outputs": [],
   "source": [
    "Q1. What is the benefit of regular expressions?\n",
    "\n",
    "\n",
    "Regex functionality in Python resides in a module named re. The re module contains many useful functions and methods\n",
    "then re.search() returns a match object. Otherwise, it returns None.The real power of regex matching in Python emerges \n",
    "when <regex> contains special characters called metacharacters. \n",
    "These have a unique meaning to the regex matching engine and vastly enhance the capability of the search"
   ]
  },
  {
   "cell_type": "code",
   "execution_count": null,
   "metadata": {},
   "outputs": [],
   "source": [
    "Q2. Describe the difference between the effects of \"(ab)c+\" and \"a(bc)+\". Which of these, if any, is the\n",
    "unqualified pattern \"abc+\"\n",
    "\n",
    "\n",
    "\n",
    "The first two has no difference where the last one is wrong pattern because there is a two patterns at a time which is\n",
    "because in the regular expression we have seperate pattern for finding quotes and for finding a alphabetical numbers."
   ]
  },
  {
   "cell_type": "code",
   "execution_count": null,
   "metadata": {},
   "outputs": [],
   "source": [
    "Q3. How much do you need to use the following sentence while using regular expressions?\n",
    "\n",
    "import re\n",
    "\n",
    "Basically when we want to import  a modules or packages we need and we use like importing the packages using the\n",
    "import statement any package and import regular expression as re means it is like a alias word we have used in this."
   ]
  },
  {
   "cell_type": "code",
   "execution_count": null,
   "metadata": {},
   "outputs": [],
   "source": [
    "Q4. Which characters have special significance in square brackets when expressing a range, and\n",
    "under what circumstances?\n",
    "\n",
    "\n",
    "Inside a character class, only the character class metacharacters (backslash, circumflex anchor and hyphen) have special \n",
    "meaning. You must use a backslash when you use character class metacharacters as literals inside a character class only."
   ]
  },
  {
   "cell_type": "code",
   "execution_count": null,
   "metadata": {},
   "outputs": [],
   "source": [
    "Q5. How does compiling a regular-expression object benefit you?\n",
    "\n",
    "\n",
    "The purpose of the compile method is to compile the regex pattern which will be used for matching later. It's advisable to\n",
    "compile regex when it'll be used several times in your program. Resaving the resulting regular expression object for \n",
    "reuse, which re. compile does, is more efficient."
   ]
  },
  {
   "cell_type": "code",
   "execution_count": null,
   "metadata": {},
   "outputs": [],
   "source": [
    "Q6. What are some examples of how to use the match object returned by re.match and re.search?\n",
    "\n",
    "\n",
    "\n"
   ]
  },
  {
   "cell_type": "code",
   "execution_count": 5,
   "metadata": {},
   "outputs": [
    {
     "name": "stdout",
     "output_type": "stream",
     "text": [
      "<re.Match object; span=(4, 6), match='am'>\n"
     ]
    }
   ],
   "source": [
    "import re\n",
    "\n",
    "txt = \"my name is xyz\"\n",
    "x = re.search(\"am\", txt)\n",
    "print(x) #this will print an object"
   ]
  },
  {
   "cell_type": "code",
   "execution_count": 6,
   "metadata": {},
   "outputs": [
    {
     "name": "stdout",
     "output_type": "stream",
     "text": [
      "('dog', 'dot')\n",
      "('data', 'day')\n"
     ]
    }
   ],
   "source": [
    "import re\n",
    "\n",
    "# Sample strings.\n",
    "list = [\"dog dot\", \"data day\", \"no match\"]\n",
    "\n",
    "# Loop.\n",
    "for element in list:\n",
    "    # Match if 2 words starting with letter \"d.\"\n",
    "    m = re.match(\"(d\\w+)\\W(d\\w+)\", element)\n",
    "\n",
    "    # See if success.\n",
    "    if m:\n",
    "        print(m.groups())"
   ]
  },
  {
   "cell_type": "code",
   "execution_count": null,
   "metadata": {},
   "outputs": [],
   "source": [
    "Q7. What is the difference between using a vertical bar (|) as an alteration and using square brackets\n",
    "as a character set?\n",
    "\n",
    "\n",
    "| is used to provide 'or' functionality when used within ()'s, while the [] denote character classes, as in match any of \n",
    "the characters/symbols inside the [] for the specified number of characters denoted by the following ?*+{#} specifiers, \n",
    "or if a ^ is used, it means don't match that symbol"
   ]
  },
  {
   "cell_type": "code",
   "execution_count": null,
   "metadata": {},
   "outputs": [],
   "source": [
    "Q8. In regular-expression search patterns, why is it necessary to use the raw-string indicator (r)? In  \n",
    "replacement strings?\n",
    "\n",
    "\n",
    "The solution is to use Python’s raw string notation for regular expression patterns; backslashes are not handled in any \n",
    "special way in a string literal prefixed with 'r'. So r\"\\n\" is a two-character string containing '\\' \n",
    "and 'n', while \"\\n\" is a one-character string containing a newline."
   ]
  },
  {
   "cell_type": "code",
   "execution_count": null,
   "metadata": {},
   "outputs": [],
   "source": []
  },
  {
   "cell_type": "code",
   "execution_count": null,
   "metadata": {},
   "outputs": [],
   "source": []
  }
 ],
 "metadata": {
  "kernelspec": {
   "display_name": "Python 3",
   "language": "python",
   "name": "python3"
  },
  "language_info": {
   "codemirror_mode": {
    "name": "ipython",
    "version": 3
   },
   "file_extension": ".py",
   "mimetype": "text/x-python",
   "name": "python",
   "nbconvert_exporter": "python",
   "pygments_lexer": "ipython3",
   "version": "3.8.5"
  }
 },
 "nbformat": 4,
 "nbformat_minor": 4
}
