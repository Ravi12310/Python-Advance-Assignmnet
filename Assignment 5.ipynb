{
 "cells": [
  {
   "cell_type": "code",
   "execution_count": null,
   "metadata": {},
   "outputs": [],
   "source": [
    "Q1. What is the meaning of multiple inheritance?\n",
    "\n",
    "\n",
    "When a class is derived more than one base class then it is called multiple inheritence because it takes all the properties\n",
    "of base class then it is called multiple inheritance."
   ]
  },
  {
   "cell_type": "code",
   "execution_count": null,
   "metadata": {},
   "outputs": [],
   "source": [
    "Q2. What is the concept of delegation?\n",
    "\n",
    "\n",
    "Delegation is an object oriented technique . if yowe have an object x and want to change the behaviour of just one of its \n",
    "methods. Then we can create a new class that provides a new implementation of the method \n",
    "then we are interested in changing and delegates all other methods to the corresponding method of x.\n",
    " "
   ]
  },
  {
   "cell_type": "code",
   "execution_count": null,
   "metadata": {},
   "outputs": [],
   "source": [
    "Q3. What is the concept of composition?\n",
    "\n",
    "\n",
    "Composition is a concept that models  has a relationship. It enables creating complex types by combining objects of \n",
    "other types. This means that a class Composite can contain an object of another class Component . \n",
    "This relationship means that a Composite has a Component ."
   ]
  },
  {
   "cell_type": "code",
   "execution_count": null,
   "metadata": {},
   "outputs": [],
   "source": [
    "Q4. What are bound methods and how do we use them?\n",
    "\n",
    "\n",
    "A bound method is the one which is dependent on the instance of the class as the first argument. It passes the instance \n",
    "as the first argument which is used to access the variables and functions. In Python new versions  all functions \n",
    "in the class are by default bound methods."
   ]
  },
  {
   "cell_type": "code",
   "execution_count": null,
   "metadata": {},
   "outputs": [],
   "source": [
    "Q5. What is the purpose of pseudoprivate attributes?\n",
    "\n",
    "\n",
    "Pseudo private property, can not be directly accessible to the outside world\n",
    "Pseudo-private methods, the same does not allow direct access to the outside world"
   ]
  }
 ],
 "metadata": {
  "kernelspec": {
   "display_name": "Python 3",
   "language": "python",
   "name": "python3"
  },
  "language_info": {
   "codemirror_mode": {
    "name": "ipython",
    "version": 3
   },
   "file_extension": ".py",
   "mimetype": "text/x-python",
   "name": "python",
   "nbconvert_exporter": "python",
   "pygments_lexer": "ipython3",
   "version": "3.8.5"
  }
 },
 "nbformat": 4,
 "nbformat_minor": 4
}
