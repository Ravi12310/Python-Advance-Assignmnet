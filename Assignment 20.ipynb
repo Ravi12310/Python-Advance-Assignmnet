{
 "cells": [
  {
   "cell_type": "code",
   "execution_count": null,
   "id": "098d679b",
   "metadata": {},
   "outputs": [],
   "source": [
    "1. Compare and contrast the float and Decimal classes&#39; benefits and drawbacks.\n",
    "\n",
    "\n",
    "\n",
    "Float stores an approximate value and decimal stores an exact value."
   ]
  },
  {
   "cell_type": "code",
   "execution_count": null,
   "id": "89e51070",
   "metadata": {},
   "outputs": [],
   "source": [
    "2. Decimal(1.200) and Decimal(1.2) are two objects to consider. In what sense are these the same\n",
    "object? Are these just two ways of representing the exact same value, or do they correspond to different internal states?\n",
    "\n",
    "\n",
    "In decimal 1.200 is different when compared to 1.2 because in decimal there are points till last and in decimal we can\n",
    "get the correct value and we cannot gets a approxiamte value."
   ]
  },
  {
   "cell_type": "code",
   "execution_count": null,
   "id": "3661e20c",
   "metadata": {},
   "outputs": [],
   "source": [
    "3. What happens if the equality of Decimal(1.200) and Decimal(1.2) is checked?\n",
    "\n",
    "\n"
   ]
  },
  {
   "cell_type": "code",
   "execution_count": 6,
   "id": "86185849",
   "metadata": {},
   "outputs": [
    {
     "data": {
      "text/plain": [
       "1.2"
      ]
     },
     "execution_count": 6,
     "metadata": {},
     "output_type": "execute_result"
    }
   ],
   "source": [
    "a = float('1.200')\n",
    "a"
   ]
  },
  {
   "cell_type": "code",
   "execution_count": 7,
   "id": "eb6dc0c9",
   "metadata": {},
   "outputs": [
    {
     "data": {
      "text/plain": [
       "1.2"
      ]
     },
     "execution_count": 7,
     "metadata": {},
     "output_type": "execute_result"
    }
   ],
   "source": [
    "a = float('1.2')\n",
    "a"
   ]
  },
  {
   "cell_type": "code",
   "execution_count": null,
   "id": "4aeb74a7",
   "metadata": {},
   "outputs": [],
   "source": [
    "4. Why is it preferable to start a Decimal object with a string rather than a floating-point value?\n",
    "\n",
    "\n",
    "\n",
    "The Python float() method converts a number stored in a string or integer into a floating point number, or a number with a \n",
    "decimal point stored as a float, rather than a string. method to make sure we have a value that is rounded to one \n",
    "decimal place."
   ]
  },
  {
   "cell_type": "code",
   "execution_count": null,
   "id": "daf4520d",
   "metadata": {},
   "outputs": [],
   "source": [
    "5. In an arithmetic phrase, how simple is it to combine Decimal objects with integers?\n",
    "\n",
    "\n",
    "By using the arithmetic operator we can easily add our decimals with integers and any datatypes."
   ]
  },
  {
   "cell_type": "code",
   "execution_count": null,
   "id": "cf478ca3",
   "metadata": {},
   "outputs": [],
   "source": [
    "6. Can Decimal objects and floating-point values be combined easily?\n",
    "\n",
    "\n",
    "\n",
    "Yes we can combined using the operators easily."
   ]
  },
  {
   "cell_type": "code",
   "execution_count": null,
   "id": "6a0541e6",
   "metadata": {},
   "outputs": [],
   "source": [
    "7. Using the Fraction class but not the Decimal class, give an example of a quantity that can be\n",
    "expressed with absolute precision.\n",
    "\n",
    "\n"
   ]
  },
  {
   "cell_type": "code",
   "execution_count": 8,
   "id": "a351d899",
   "metadata": {},
   "outputs": [
    {
     "data": {
      "text/plain": [
       "Decimal('0.1428571428571428571428571429')"
      ]
     },
     "execution_count": 8,
     "metadata": {},
     "output_type": "execute_result"
    }
   ],
   "source": [
    "from decimal import *\n",
    "getcontext().prec = 6\n",
    "Decimal(1) / Decimal(7)\n",
    "Decimal('0.142857')\n",
    "getcontext().prec = 28\n",
    "Decimal(1) / Decimal(7)\n",
    "Decimal('0.1428571428571428571428571429')\n"
   ]
  },
  {
   "cell_type": "code",
   "execution_count": null,
   "id": "3c2141bb",
   "metadata": {},
   "outputs": [],
   "source": [
    "8. Describe a quantity that can be accurately expressed by the Decimal or Fraction classes but not by\n",
    "a floating-point value.\n",
    "\n",
    "\n",
    "By using the inbuilt module numpy and in that there is a round function which will able to gives the results like a \n",
    "particular round numbers and it do not give the decimal numbers."
   ]
  },
  {
   "cell_type": "code",
   "execution_count": null,
   "id": "b1da4126",
   "metadata": {},
   "outputs": [],
   "source": [
    "Q9.Consider the following two fraction objects: Fraction(1, 2) and Fraction(1, 2). (5, 10). Is the internal\n",
    "state of these two objects the same? Why do you think that is?\n",
    "\n",
    "\n",
    "\n",
    "It is different because it has a seperate functions in both and it will gives the sepearte location space of that \n",
    "particular values also without swapping."
   ]
  },
  {
   "cell_type": "code",
   "execution_count": null,
   "id": "86f6ee92",
   "metadata": {},
   "outputs": [],
   "source": [
    "Q10. How do the Fraction class and the integer type (int) relate to each other? Containment or inheritance?\n",
    "\n",
    "\n",
    "\n",
    "The function class and integer type is different and mathematically it is some what same and execution wise it has some\n",
    "dependencies and some of them are different."
   ]
  },
  {
   "cell_type": "code",
   "execution_count": null,
   "id": "e10bdab8",
   "metadata": {},
   "outputs": [],
   "source": []
  }
 ],
 "metadata": {
  "kernelspec": {
   "display_name": "Python 3",
   "language": "python",
   "name": "python3"
  },
  "language_info": {
   "codemirror_mode": {
    "name": "ipython",
    "version": 3
   },
   "file_extension": ".py",
   "mimetype": "text/x-python",
   "name": "python",
   "nbconvert_exporter": "python",
   "pygments_lexer": "ipython3",
   "version": "3.8.8"
  }
 },
 "nbformat": 4,
 "nbformat_minor": 5
}
