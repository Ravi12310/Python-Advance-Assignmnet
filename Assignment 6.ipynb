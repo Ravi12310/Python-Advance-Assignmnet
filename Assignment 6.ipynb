{
 "cells": [
  {
   "cell_type": "code",
   "execution_count": null,
   "metadata": {},
   "outputs": [],
   "source": [
    "Q1. Describe three applications for exception processing.\n",
    "\n",
    "\n",
    "There are so many exceptions types in python like indexerror, programming error, value error, syntax error, etc by using\n",
    "exceptions we can handle the exception conditions."
   ]
  },
  {
   "cell_type": "code",
   "execution_count": null,
   "metadata": {},
   "outputs": [],
   "source": [
    "Q2. What happens if you don't do something extra to treat an exception?\n",
    "\n",
    "\n",
    "If we don't handle exceptions then the code is not in a readable format and we cannot see where our program is giving issue\n",
    "and with that we can easily rectify our code and mistakes and with exceptions we can get the output also."
   ]
  },
  {
   "cell_type": "code",
   "execution_count": null,
   "metadata": {},
   "outputs": [],
   "source": [
    "Q3. What are your options for recovering from an exception in your script?\n",
    "\n",
    "\n",
    "By using some of the blocks like try,except,else,finally,assert and raise we can try to recover the code and execute the \n",
    "program."
   ]
  },
  {
   "cell_type": "code",
   "execution_count": null,
   "metadata": {},
   "outputs": [],
   "source": [
    "Q4. Describe two methods for triggering exceptions in your script.\n",
    "\n",
    "\n",
    "By using except block of statement we can handle the specific and over all exceptions and by using raise word we can \n",
    "hold the specific exception in the code."
   ]
  },
  {
   "cell_type": "code",
   "execution_count": null,
   "metadata": {},
   "outputs": [],
   "source": [
    "Q5. Identify two methods for specifying actions to be executed at termination time, regardless of\n",
    "whether or not an exception exists.\n",
    "\n",
    "\n",
    "By using the try statement we can keep the code when it is suspicious in try block and when it fails it get backs to except\n",
    "block of statement and without the presentation of the code the else and finally blocks will execute all the time."
   ]
  },
  {
   "cell_type": "code",
   "execution_count": null,
   "metadata": {},
   "outputs": [],
   "source": []
  }
 ],
 "metadata": {
  "kernelspec": {
   "display_name": "Python 3",
   "language": "python",
   "name": "python3"
  },
  "language_info": {
   "codemirror_mode": {
    "name": "ipython",
    "version": 3
   },
   "file_extension": ".py",
   "mimetype": "text/x-python",
   "name": "python",
   "nbconvert_exporter": "python",
   "pygments_lexer": "ipython3",
   "version": "3.8.5"
  }
 },
 "nbformat": 4,
 "nbformat_minor": 4
}
