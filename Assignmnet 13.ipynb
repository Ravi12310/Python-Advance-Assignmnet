{
 "cells": [
  {
   "cell_type": "code",
   "execution_count": null,
   "metadata": {},
   "outputs": [],
   "source": [
    "Q1. Can you create a programme or function that employs both positive and negative indexing? Is\n",
    "there any repercussion if you do so?\n",
    "\n",
    "\n"
   ]
  },
  {
   "cell_type": "code",
   "execution_count": 17,
   "metadata": {},
   "outputs": [
    {
     "name": "stdout",
     "output_type": "stream",
     "text": [
      "1\n",
      "hello\n"
     ]
    }
   ],
   "source": [
    "list = [1,2,3,4,\"hello\"]\n",
    "print(list[0])\n",
    "print(list[-1])"
   ]
  },
  {
   "cell_type": "code",
   "execution_count": null,
   "metadata": {},
   "outputs": [],
   "source": [
    "Q2. What is the most effective way of starting with 1,000 elements in a Python list? Assume that all\n",
    "elements should be set to the same value.\n",
    "\n"
   ]
  },
  {
   "cell_type": "code",
   "execution_count": 12,
   "metadata": {},
   "outputs": [
    {
     "name": "stdout",
     "output_type": "stream",
     "text": [
      "['1,2,3,4,hello', '1,2,3,4,hello', '1,2,3,4,hello', '1,2,3,4,hello', '1,2,3,4,hello', '1,2,3,4,hello', '1,2,3,4,hello', '1,2,3,4,hello', '1,2,3,4,hello', '1,2,3,4,hello', '1,2,3,4,hello', '1,2,3,4,hello', '1,2,3,4,hello', '1,2,3,4,hello', '1,2,3,4,hello', '1,2,3,4,hello', '1,2,3,4,hello', '1,2,3,4,hello', '1,2,3,4,hello', '1,2,3,4,hello', '1,2,3,4,hello', '1,2,3,4,hello', '1,2,3,4,hello', '1,2,3,4,hello', '1,2,3,4,hello', '1,2,3,4,hello', '1,2,3,4,hello', '1,2,3,4,hello', '1,2,3,4,hello', '1,2,3,4,hello', '1,2,3,4,hello', '1,2,3,4,hello', '1,2,3,4,hello', '1,2,3,4,hello', '1,2,3,4,hello', '1,2,3,4,hello', '1,2,3,4,hello', '1,2,3,4,hello', '1,2,3,4,hello', '1,2,3,4,hello', '1,2,3,4,hello', '1,2,3,4,hello', '1,2,3,4,hello', '1,2,3,4,hello', '1,2,3,4,hello', '1,2,3,4,hello', '1,2,3,4,hello', '1,2,3,4,hello', '1,2,3,4,hello', '1,2,3,4,hello', '1,2,3,4,hello', '1,2,3,4,hello', '1,2,3,4,hello', '1,2,3,4,hello', '1,2,3,4,hello', '1,2,3,4,hello', '1,2,3,4,hello', '1,2,3,4,hello', '1,2,3,4,hello', '1,2,3,4,hello', '1,2,3,4,hello', '1,2,3,4,hello', '1,2,3,4,hello', '1,2,3,4,hello', '1,2,3,4,hello', '1,2,3,4,hello', '1,2,3,4,hello', '1,2,3,4,hello', '1,2,3,4,hello', '1,2,3,4,hello', '1,2,3,4,hello', '1,2,3,4,hello', '1,2,3,4,hello', '1,2,3,4,hello', '1,2,3,4,hello', '1,2,3,4,hello', '1,2,3,4,hello', '1,2,3,4,hello', '1,2,3,4,hello', '1,2,3,4,hello', '1,2,3,4,hello', '1,2,3,4,hello', '1,2,3,4,hello', '1,2,3,4,hello', '1,2,3,4,hello', '1,2,3,4,hello', '1,2,3,4,hello', '1,2,3,4,hello', '1,2,3,4,hello', '1,2,3,4,hello', '1,2,3,4,hello', '1,2,3,4,hello', '1,2,3,4,hello', '1,2,3,4,hello', '1,2,3,4,hello', '1,2,3,4,hello', '1,2,3,4,hello', '1,2,3,4,hello', '1,2,3,4,hello', '1,2,3,4,hello', '1,2,3,4,hello', '1,2,3,4,hello', '1,2,3,4,hello', '1,2,3,4,hello', '1,2,3,4,hello', '1,2,3,4,hello', '1,2,3,4,hello', '1,2,3,4,hello', '1,2,3,4,hello', '1,2,3,4,hello', '1,2,3,4,hello', '1,2,3,4,hello', '1,2,3,4,hello', '1,2,3,4,hello', '1,2,3,4,hello', '1,2,3,4,hello', '1,2,3,4,hello', '1,2,3,4,hello', '1,2,3,4,hello', '1,2,3,4,hello', '1,2,3,4,hello', '1,2,3,4,hello', '1,2,3,4,hello', '1,2,3,4,hello', '1,2,3,4,hello', '1,2,3,4,hello', '1,2,3,4,hello', '1,2,3,4,hello', '1,2,3,4,hello', '1,2,3,4,hello', '1,2,3,4,hello', '1,2,3,4,hello', '1,2,3,4,hello', '1,2,3,4,hello', '1,2,3,4,hello', '1,2,3,4,hello', '1,2,3,4,hello', '1,2,3,4,hello', '1,2,3,4,hello', '1,2,3,4,hello', '1,2,3,4,hello', '1,2,3,4,hello', '1,2,3,4,hello', '1,2,3,4,hello', '1,2,3,4,hello', '1,2,3,4,hello', '1,2,3,4,hello', '1,2,3,4,hello', '1,2,3,4,hello', '1,2,3,4,hello', '1,2,3,4,hello', '1,2,3,4,hello', '1,2,3,4,hello', '1,2,3,4,hello', '1,2,3,4,hello', '1,2,3,4,hello', '1,2,3,4,hello', '1,2,3,4,hello', '1,2,3,4,hello', '1,2,3,4,hello', '1,2,3,4,hello', '1,2,3,4,hello', '1,2,3,4,hello', '1,2,3,4,hello', '1,2,3,4,hello', '1,2,3,4,hello', '1,2,3,4,hello', '1,2,3,4,hello', '1,2,3,4,hello', '1,2,3,4,hello', '1,2,3,4,hello', '1,2,3,4,hello', '1,2,3,4,hello', '1,2,3,4,hello', '1,2,3,4,hello', '1,2,3,4,hello', '1,2,3,4,hello', '1,2,3,4,hello', '1,2,3,4,hello', '1,2,3,4,hello', '1,2,3,4,hello', '1,2,3,4,hello', '1,2,3,4,hello', '1,2,3,4,hello', '1,2,3,4,hello', '1,2,3,4,hello', '1,2,3,4,hello', '1,2,3,4,hello', '1,2,3,4,hello', '1,2,3,4,hello', '1,2,3,4,hello', '1,2,3,4,hello', '1,2,3,4,hello', '1,2,3,4,hello', '1,2,3,4,hello', '1,2,3,4,hello', '1,2,3,4,hello', '1,2,3,4,hello', '1,2,3,4,hello', '1,2,3,4,hello', '1,2,3,4,hello', '1,2,3,4,hello', '1,2,3,4,hello', '1,2,3,4,hello', '1,2,3,4,hello', '1,2,3,4,hello', '1,2,3,4,hello', '1,2,3,4,hello', '1,2,3,4,hello', '1,2,3,4,hello', '1,2,3,4,hello', '1,2,3,4,hello', '1,2,3,4,hello', '1,2,3,4,hello', '1,2,3,4,hello', '1,2,3,4,hello', '1,2,3,4,hello', '1,2,3,4,hello', '1,2,3,4,hello', '1,2,3,4,hello', '1,2,3,4,hello', '1,2,3,4,hello', '1,2,3,4,hello', '1,2,3,4,hello', '1,2,3,4,hello', '1,2,3,4,hello', '1,2,3,4,hello', '1,2,3,4,hello', '1,2,3,4,hello', '1,2,3,4,hello', '1,2,3,4,hello', '1,2,3,4,hello', '1,2,3,4,hello', '1,2,3,4,hello', '1,2,3,4,hello', '1,2,3,4,hello', '1,2,3,4,hello', '1,2,3,4,hello', '1,2,3,4,hello', '1,2,3,4,hello', '1,2,3,4,hello', '1,2,3,4,hello', '1,2,3,4,hello', '1,2,3,4,hello', '1,2,3,4,hello', '1,2,3,4,hello', '1,2,3,4,hello', '1,2,3,4,hello', '1,2,3,4,hello', '1,2,3,4,hello', '1,2,3,4,hello', '1,2,3,4,hello', '1,2,3,4,hello', '1,2,3,4,hello', '1,2,3,4,hello', '1,2,3,4,hello', '1,2,3,4,hello', '1,2,3,4,hello', '1,2,3,4,hello', '1,2,3,4,hello', '1,2,3,4,hello', '1,2,3,4,hello', '1,2,3,4,hello', '1,2,3,4,hello', '1,2,3,4,hello', '1,2,3,4,hello', '1,2,3,4,hello', '1,2,3,4,hello', '1,2,3,4,hello', '1,2,3,4,hello', '1,2,3,4,hello', '1,2,3,4,hello', '1,2,3,4,hello', '1,2,3,4,hello', '1,2,3,4,hello', '1,2,3,4,hello', '1,2,3,4,hello', '1,2,3,4,hello', '1,2,3,4,hello', '1,2,3,4,hello', '1,2,3,4,hello', '1,2,3,4,hello', '1,2,3,4,hello', '1,2,3,4,hello', '1,2,3,4,hello', '1,2,3,4,hello', '1,2,3,4,hello', '1,2,3,4,hello', '1,2,3,4,hello', '1,2,3,4,hello', '1,2,3,4,hello', '1,2,3,4,hello', '1,2,3,4,hello', '1,2,3,4,hello', '1,2,3,4,hello', '1,2,3,4,hello', '1,2,3,4,hello', '1,2,3,4,hello', '1,2,3,4,hello', '1,2,3,4,hello', '1,2,3,4,hello', '1,2,3,4,hello', '1,2,3,4,hello', '1,2,3,4,hello', '1,2,3,4,hello', '1,2,3,4,hello', '1,2,3,4,hello', '1,2,3,4,hello', '1,2,3,4,hello', '1,2,3,4,hello', '1,2,3,4,hello', '1,2,3,4,hello', '1,2,3,4,hello', '1,2,3,4,hello', '1,2,3,4,hello', '1,2,3,4,hello', '1,2,3,4,hello', '1,2,3,4,hello', '1,2,3,4,hello', '1,2,3,4,hello', '1,2,3,4,hello', '1,2,3,4,hello', '1,2,3,4,hello', '1,2,3,4,hello', '1,2,3,4,hello', '1,2,3,4,hello', '1,2,3,4,hello', '1,2,3,4,hello', '1,2,3,4,hello', '1,2,3,4,hello', '1,2,3,4,hello', '1,2,3,4,hello', '1,2,3,4,hello', '1,2,3,4,hello', '1,2,3,4,hello', '1,2,3,4,hello', '1,2,3,4,hello', '1,2,3,4,hello', '1,2,3,4,hello', '1,2,3,4,hello', '1,2,3,4,hello', '1,2,3,4,hello', '1,2,3,4,hello', '1,2,3,4,hello', '1,2,3,4,hello', '1,2,3,4,hello', '1,2,3,4,hello', '1,2,3,4,hello', '1,2,3,4,hello', '1,2,3,4,hello', '1,2,3,4,hello', '1,2,3,4,hello', '1,2,3,4,hello', '1,2,3,4,hello', '1,2,3,4,hello', '1,2,3,4,hello', '1,2,3,4,hello', '1,2,3,4,hello', '1,2,3,4,hello', '1,2,3,4,hello', '1,2,3,4,hello', '1,2,3,4,hello', '1,2,3,4,hello', '1,2,3,4,hello', '1,2,3,4,hello', '1,2,3,4,hello', '1,2,3,4,hello', '1,2,3,4,hello', '1,2,3,4,hello', '1,2,3,4,hello', '1,2,3,4,hello', '1,2,3,4,hello', '1,2,3,4,hello', '1,2,3,4,hello', '1,2,3,4,hello', '1,2,3,4,hello', '1,2,3,4,hello', '1,2,3,4,hello', '1,2,3,4,hello', '1,2,3,4,hello', '1,2,3,4,hello', '1,2,3,4,hello', '1,2,3,4,hello', '1,2,3,4,hello', '1,2,3,4,hello', '1,2,3,4,hello', '1,2,3,4,hello', '1,2,3,4,hello', '1,2,3,4,hello', '1,2,3,4,hello', '1,2,3,4,hello', '1,2,3,4,hello', '1,2,3,4,hello', '1,2,3,4,hello', '1,2,3,4,hello', '1,2,3,4,hello', '1,2,3,4,hello', '1,2,3,4,hello', '1,2,3,4,hello', '1,2,3,4,hello', '1,2,3,4,hello', '1,2,3,4,hello', '1,2,3,4,hello', '1,2,3,4,hello', '1,2,3,4,hello', '1,2,3,4,hello', '1,2,3,4,hello', '1,2,3,4,hello', '1,2,3,4,hello', '1,2,3,4,hello', '1,2,3,4,hello', '1,2,3,4,hello', '1,2,3,4,hello', '1,2,3,4,hello', '1,2,3,4,hello', '1,2,3,4,hello', '1,2,3,4,hello', '1,2,3,4,hello', '1,2,3,4,hello', '1,2,3,4,hello', '1,2,3,4,hello', '1,2,3,4,hello', '1,2,3,4,hello', '1,2,3,4,hello', '1,2,3,4,hello', '1,2,3,4,hello', '1,2,3,4,hello', '1,2,3,4,hello', '1,2,3,4,hello', '1,2,3,4,hello', '1,2,3,4,hello', '1,2,3,4,hello', '1,2,3,4,hello', '1,2,3,4,hello', '1,2,3,4,hello', '1,2,3,4,hello', '1,2,3,4,hello', '1,2,3,4,hello', '1,2,3,4,hello', '1,2,3,4,hello', '1,2,3,4,hello', '1,2,3,4,hello', '1,2,3,4,hello', '1,2,3,4,hello', '1,2,3,4,hello', '1,2,3,4,hello', '1,2,3,4,hello', '1,2,3,4,hello', '1,2,3,4,hello', '1,2,3,4,hello', '1,2,3,4,hello', '1,2,3,4,hello', '1,2,3,4,hello', '1,2,3,4,hello', '1,2,3,4,hello', '1,2,3,4,hello', '1,2,3,4,hello', '1,2,3,4,hello', '1,2,3,4,hello', '1,2,3,4,hello', '1,2,3,4,hello', '1,2,3,4,hello', '1,2,3,4,hello', '1,2,3,4,hello', '1,2,3,4,hello', '1,2,3,4,hello', '1,2,3,4,hello', '1,2,3,4,hello', '1,2,3,4,hello', '1,2,3,4,hello', '1,2,3,4,hello', '1,2,3,4,hello', '1,2,3,4,hello', '1,2,3,4,hello', '1,2,3,4,hello', '1,2,3,4,hello', '1,2,3,4,hello', '1,2,3,4,hello', '1,2,3,4,hello', '1,2,3,4,hello', '1,2,3,4,hello', '1,2,3,4,hello', '1,2,3,4,hello', '1,2,3,4,hello', '1,2,3,4,hello', '1,2,3,4,hello', '1,2,3,4,hello', '1,2,3,4,hello', '1,2,3,4,hello', '1,2,3,4,hello', '1,2,3,4,hello', '1,2,3,4,hello', '1,2,3,4,hello', '1,2,3,4,hello', '1,2,3,4,hello', '1,2,3,4,hello', '1,2,3,4,hello', '1,2,3,4,hello', '1,2,3,4,hello', '1,2,3,4,hello', '1,2,3,4,hello', '1,2,3,4,hello', '1,2,3,4,hello', '1,2,3,4,hello', '1,2,3,4,hello', '1,2,3,4,hello', '1,2,3,4,hello', '1,2,3,4,hello', '1,2,3,4,hello', '1,2,3,4,hello', '1,2,3,4,hello', '1,2,3,4,hello', '1,2,3,4,hello', '1,2,3,4,hello', '1,2,3,4,hello', '1,2,3,4,hello', '1,2,3,4,hello', '1,2,3,4,hello', '1,2,3,4,hello', '1,2,3,4,hello', '1,2,3,4,hello', '1,2,3,4,hello', '1,2,3,4,hello', '1,2,3,4,hello', '1,2,3,4,hello', '1,2,3,4,hello', '1,2,3,4,hello', '1,2,3,4,hello', '1,2,3,4,hello', '1,2,3,4,hello', '1,2,3,4,hello', '1,2,3,4,hello', '1,2,3,4,hello', '1,2,3,4,hello', '1,2,3,4,hello', '1,2,3,4,hello', '1,2,3,4,hello', '1,2,3,4,hello', '1,2,3,4,hello', '1,2,3,4,hello', '1,2,3,4,hello', '1,2,3,4,hello', '1,2,3,4,hello', '1,2,3,4,hello', '1,2,3,4,hello', '1,2,3,4,hello', '1,2,3,4,hello', '1,2,3,4,hello', '1,2,3,4,hello', '1,2,3,4,hello', '1,2,3,4,hello', '1,2,3,4,hello', '1,2,3,4,hello', '1,2,3,4,hello', '1,2,3,4,hello', '1,2,3,4,hello', '1,2,3,4,hello', '1,2,3,4,hello', '1,2,3,4,hello', '1,2,3,4,hello', '1,2,3,4,hello', '1,2,3,4,hello', '1,2,3,4,hello', '1,2,3,4,hello', '1,2,3,4,hello', '1,2,3,4,hello', '1,2,3,4,hello', '1,2,3,4,hello', '1,2,3,4,hello', '1,2,3,4,hello', '1,2,3,4,hello', '1,2,3,4,hello', '1,2,3,4,hello', '1,2,3,4,hello', '1,2,3,4,hello', '1,2,3,4,hello', '1,2,3,4,hello', '1,2,3,4,hello', '1,2,3,4,hello', '1,2,3,4,hello', '1,2,3,4,hello', '1,2,3,4,hello', '1,2,3,4,hello', '1,2,3,4,hello', '1,2,3,4,hello', '1,2,3,4,hello', '1,2,3,4,hello', '1,2,3,4,hello', '1,2,3,4,hello', '1,2,3,4,hello', '1,2,3,4,hello', '1,2,3,4,hello', '1,2,3,4,hello', '1,2,3,4,hello', '1,2,3,4,hello', '1,2,3,4,hello', '1,2,3,4,hello', '1,2,3,4,hello', '1,2,3,4,hello', '1,2,3,4,hello', '1,2,3,4,hello', '1,2,3,4,hello', '1,2,3,4,hello', '1,2,3,4,hello', '1,2,3,4,hello', '1,2,3,4,hello', '1,2,3,4,hello', '1,2,3,4,hello', '1,2,3,4,hello', '1,2,3,4,hello', '1,2,3,4,hello', '1,2,3,4,hello', '1,2,3,4,hello', '1,2,3,4,hello', '1,2,3,4,hello', '1,2,3,4,hello', '1,2,3,4,hello', '1,2,3,4,hello', '1,2,3,4,hello', '1,2,3,4,hello', '1,2,3,4,hello', '1,2,3,4,hello', '1,2,3,4,hello', '1,2,3,4,hello', '1,2,3,4,hello', '1,2,3,4,hello', '1,2,3,4,hello', '1,2,3,4,hello', '1,2,3,4,hello', '1,2,3,4,hello', '1,2,3,4,hello', '1,2,3,4,hello', '1,2,3,4,hello', '1,2,3,4,hello', '1,2,3,4,hello', '1,2,3,4,hello', '1,2,3,4,hello', '1,2,3,4,hello', '1,2,3,4,hello', '1,2,3,4,hello', '1,2,3,4,hello', '1,2,3,4,hello', '1,2,3,4,hello', '1,2,3,4,hello', '1,2,3,4,hello', '1,2,3,4,hello', '1,2,3,4,hello', '1,2,3,4,hello', '1,2,3,4,hello', '1,2,3,4,hello', '1,2,3,4,hello', '1,2,3,4,hello', '1,2,3,4,hello', '1,2,3,4,hello', '1,2,3,4,hello', '1,2,3,4,hello', '1,2,3,4,hello', '1,2,3,4,hello', '1,2,3,4,hello', '1,2,3,4,hello', '1,2,3,4,hello', '1,2,3,4,hello', '1,2,3,4,hello', '1,2,3,4,hello', '1,2,3,4,hello', '1,2,3,4,hello', '1,2,3,4,hello', '1,2,3,4,hello', '1,2,3,4,hello', '1,2,3,4,hello', '1,2,3,4,hello', '1,2,3,4,hello', '1,2,3,4,hello', '1,2,3,4,hello', '1,2,3,4,hello', '1,2,3,4,hello', '1,2,3,4,hello', '1,2,3,4,hello', '1,2,3,4,hello', '1,2,3,4,hello', '1,2,3,4,hello', '1,2,3,4,hello', '1,2,3,4,hello', '1,2,3,4,hello', '1,2,3,4,hello', '1,2,3,4,hello', '1,2,3,4,hello', '1,2,3,4,hello', '1,2,3,4,hello', '1,2,3,4,hello', '1,2,3,4,hello', '1,2,3,4,hello', '1,2,3,4,hello', '1,2,3,4,hello', '1,2,3,4,hello', '1,2,3,4,hello', '1,2,3,4,hello', '1,2,3,4,hello', '1,2,3,4,hello', '1,2,3,4,hello', '1,2,3,4,hello', '1,2,3,4,hello', '1,2,3,4,hello', '1,2,3,4,hello', '1,2,3,4,hello', '1,2,3,4,hello', '1,2,3,4,hello', '1,2,3,4,hello', '1,2,3,4,hello', '1,2,3,4,hello', '1,2,3,4,hello', '1,2,3,4,hello', '1,2,3,4,hello', '1,2,3,4,hello', '1,2,3,4,hello', '1,2,3,4,hello', '1,2,3,4,hello', '1,2,3,4,hello', '1,2,3,4,hello', '1,2,3,4,hello', '1,2,3,4,hello', '1,2,3,4,hello', '1,2,3,4,hello', '1,2,3,4,hello', '1,2,3,4,hello', '1,2,3,4,hello', '1,2,3,4,hello', '1,2,3,4,hello', '1,2,3,4,hello', '1,2,3,4,hello', '1,2,3,4,hello', '1,2,3,4,hello', '1,2,3,4,hello', '1,2,3,4,hello', '1,2,3,4,hello', '1,2,3,4,hello', '1,2,3,4,hello', '1,2,3,4,hello', '1,2,3,4,hello', '1,2,3,4,hello', '1,2,3,4,hello', '1,2,3,4,hello', '1,2,3,4,hello', '1,2,3,4,hello', '1,2,3,4,hello', '1,2,3,4,hello', '1,2,3,4,hello', '1,2,3,4,hello', '1,2,3,4,hello', '1,2,3,4,hello', '1,2,3,4,hello', '1,2,3,4,hello', '1,2,3,4,hello', '1,2,3,4,hello', '1,2,3,4,hello', '1,2,3,4,hello', '1,2,3,4,hello', '1,2,3,4,hello', '1,2,3,4,hello', '1,2,3,4,hello', '1,2,3,4,hello', '1,2,3,4,hello', '1,2,3,4,hello', '1,2,3,4,hello', '1,2,3,4,hello', '1,2,3,4,hello', '1,2,3,4,hello', '1,2,3,4,hello', '1,2,3,4,hello', '1,2,3,4,hello', '1,2,3,4,hello', '1,2,3,4,hello', '1,2,3,4,hello', '1,2,3,4,hello', '1,2,3,4,hello', '1,2,3,4,hello', '1,2,3,4,hello', '1,2,3,4,hello', '1,2,3,4,hello', '1,2,3,4,hello', '1,2,3,4,hello', '1,2,3,4,hello', '1,2,3,4,hello', '1,2,3,4,hello', '1,2,3,4,hello', '1,2,3,4,hello', '1,2,3,4,hello', '1,2,3,4,hello', '1,2,3,4,hello', '1,2,3,4,hello', '1,2,3,4,hello', '1,2,3,4,hello', '1,2,3,4,hello', '1,2,3,4,hello', '1,2,3,4,hello', '1,2,3,4,hello', '1,2,3,4,hello', '1,2,3,4,hello', '1,2,3,4,hello', '1,2,3,4,hello', '1,2,3,4,hello', '1,2,3,4,hello', '1,2,3,4,hello', '1,2,3,4,hello', '1,2,3,4,hello', '1,2,3,4,hello', '1,2,3,4,hello', '1,2,3,4,hello', '1,2,3,4,hello', '1,2,3,4,hello', '1,2,3,4,hello', '1,2,3,4,hello', '1,2,3,4,hello', '1,2,3,4,hello', '1,2,3,4,hello', '1,2,3,4,hello', '1,2,3,4,hello', '1,2,3,4,hello', '1,2,3,4,hello', '1,2,3,4,hello', '1,2,3,4,hello', '1,2,3,4,hello', '1,2,3,4,hello', '1,2,3,4,hello', '1,2,3,4,hello', '1,2,3,4,hello', '1,2,3,4,hello', '1,2,3,4,hello', '1,2,3,4,hello', '1,2,3,4,hello', '1,2,3,4,hello', '1,2,3,4,hello', '1,2,3,4,hello', '1,2,3,4,hello', '1,2,3,4,hello', '1,2,3,4,hello', '1,2,3,4,hello', '1,2,3,4,hello', '1,2,3,4,hello', '1,2,3,4,hello', '1,2,3,4,hello', '1,2,3,4,hello', '1,2,3,4,hello', '1,2,3,4,hello', '1,2,3,4,hello', '1,2,3,4,hello', '1,2,3,4,hello', '1,2,3,4,hello', '1,2,3,4,hello', '1,2,3,4,hello', '1,2,3,4,hello', '1,2,3,4,hello', '1,2,3,4,hello', '1,2,3,4,hello', '1,2,3,4,hello', '1,2,3,4,hello', '1,2,3,4,hello', '1,2,3,4,hello', '1,2,3,4,hello', '1,2,3,4,hello', '1,2,3,4,hello', '1,2,3,4,hello', '1,2,3,4,hello', '1,2,3,4,hello', '1,2,3,4,hello', '1,2,3,4,hello', '1,2,3,4,hello', '1,2,3,4,hello', '1,2,3,4,hello', '1,2,3,4,hello', '1,2,3,4,hello', '1,2,3,4,hello', '1,2,3,4,hello', '1,2,3,4,hello', '1,2,3,4,hello', '1,2,3,4,hello', '1,2,3,4,hello', '1,2,3,4,hello', '1,2,3,4,hello', '1,2,3,4,hello', '1,2,3,4,hello', '1,2,3,4,hello', '1,2,3,4,hello', '1,2,3,4,hello', '1,2,3,4,hello', '1,2,3,4,hello', '1,2,3,4,hello', '1,2,3,4,hello', '1,2,3,4,hello', '1,2,3,4,hello', '1,2,3,4,hello', '1,2,3,4,hello', '1,2,3,4,hello', '1,2,3,4,hello', '1,2,3,4,hello', '1,2,3,4,hello', '1,2,3,4,hello', '1,2,3,4,hello', '1,2,3,4,hello', '1,2,3,4,hello', '1,2,3,4,hello', '1,2,3,4,hello', '1,2,3,4,hello', '1,2,3,4,hello', '1,2,3,4,hello', '1,2,3,4,hello', '1,2,3,4,hello', '1,2,3,4,hello', '1,2,3,4,hello', '1,2,3,4,hello', '1,2,3,4,hello', '1,2,3,4,hello', '1,2,3,4,hello', '1,2,3,4,hello', '1,2,3,4,hello', '1,2,3,4,hello', '1,2,3,4,hello', '1,2,3,4,hello', '1,2,3,4,hello', '1,2,3,4,hello', '1,2,3,4,hello', '1,2,3,4,hello', '1,2,3,4,hello', '1,2,3,4,hello', '1,2,3,4,hello', '1,2,3,4,hello', '1,2,3,4,hello', '1,2,3,4,hello', '1,2,3,4,hello', '1,2,3,4,hello', '1,2,3,4,hello', '1,2,3,4,hello', '1,2,3,4,hello', '1,2,3,4,hello', '1,2,3,4,hello', '1,2,3,4,hello', '1,2,3,4,hello', '1,2,3,4,hello', '1,2,3,4,hello', '1,2,3,4,hello', '1,2,3,4,hello', '1,2,3,4,hello', '1,2,3,4,hello', '1,2,3,4,hello', '1,2,3,4,hello', '1,2,3,4,hello', '1,2,3,4,hello', '1,2,3,4,hello', '1,2,3,4,hello', '1,2,3,4,hello', '1,2,3,4,hello', '1,2,3,4,hello', '1,2,3,4,hello', '1,2,3,4,hello', '1,2,3,4,hello', '1,2,3,4,hello', '1,2,3,4,hello', '1,2,3,4,hello', '1,2,3,4,hello', '1,2,3,4,hello', '1,2,3,4,hello', '1,2,3,4,hello', '1,2,3,4,hello', '1,2,3,4,hello', '1,2,3,4,hello', '1,2,3,4,hello', '1,2,3,4,hello', '1,2,3,4,hello', '1,2,3,4,hello', '1,2,3,4,hello', '1,2,3,4,hello', '1,2,3,4,hello', '1,2,3,4,hello', '1,2,3,4,hello', '1,2,3,4,hello', '1,2,3,4,hello', '1,2,3,4,hello', '1,2,3,4,hello', '1,2,3,4,hello', '1,2,3,4,hello', '1,2,3,4,hello', '1,2,3,4,hello', '1,2,3,4,hello', '1,2,3,4,hello', '1,2,3,4,hello', '1,2,3,4,hello', '1,2,3,4,hello', '1,2,3,4,hello', '1,2,3,4,hello', '1,2,3,4,hello', '1,2,3,4,hello', '1,2,3,4,hello', '1,2,3,4,hello', '1,2,3,4,hello', '1,2,3,4,hello', '1,2,3,4,hello', '1,2,3,4,hello', '1,2,3,4,hello', '1,2,3,4,hello', '1,2,3,4,hello']\n"
     ]
    }
   ],
   "source": [
    "list = [\"1,2,3,4,hello\"] * 1000\n",
    "print(list)"
   ]
  },
  {
   "cell_type": "code",
   "execution_count": null,
   "metadata": {},
   "outputs": [],
   "source": [
    "Q4. Explain the distinctions between indexing and slicing.\n",
    "\n",
    "\n",
    "indexing means it gives a single value or character of that particular one whereas slicing means it will slice the characte\n",
    "till the given condition like a group of characters."
   ]
  },
  {
   "cell_type": "code",
   "execution_count": 14,
   "metadata": {},
   "outputs": [
    {
     "name": "stdout",
     "output_type": "stream",
     "text": [
      "[1, 2, 3, 4, 'hello']\n"
     ]
    }
   ],
   "source": [
    "Q5. What happens if one of the slicing expression's indexes is out of range?\n",
    "\n",
    "It gives all the values upto ending and it cannot gives the error\n",
    "list = [1,2,3,4,\"hello\"]\n",
    "print(list[0:10])"
   ]
  },
  {
   "cell_type": "code",
   "execution_count": null,
   "metadata": {},
   "outputs": [],
   "source": [
    "Q3. How do you slice a list to get any other part while missing the rest? (For example, suppose you\n",
    "want to make a new list with the elements first, third, fifth, seventh, and so on.)"
   ]
  },
  {
   "cell_type": "code",
   "execution_count": 15,
   "metadata": {},
   "outputs": [
    {
     "data": {
      "text/plain": [
       "'e'"
      ]
     },
     "execution_count": 15,
     "metadata": {},
     "output_type": "execute_result"
    }
   ],
   "source": [
    "lst = [\"hello this a assignment in python\"]\n",
    "lst[0][1:3:5]"
   ]
  },
  {
   "cell_type": "code",
   "execution_count": null,
   "metadata": {},
   "outputs": [],
   "source": [
    "Q7. What is the concept of an unbalanced matrix?\n",
    "\n",
    "\n",
    "\n",
    "Unbalanced Assignment problem is an assignment problem where the number of facilities is not equal to the number of jobs. \n",
    "To make unbalanced assignment problem, a balanced one, a dummy facility or a dummy job is introduced with zero cost or time"
   ]
  },
  {
   "cell_type": "code",
   "execution_count": null,
   "metadata": {},
   "outputs": [],
   "source": [
    "Q8. Why is it necessary to use either list comprehension or a loop to create arbitrarily large matrices?\n",
    "\n",
    "\n",
    "\n",
    "Because of the time constrain and complexity of the code and reusability we can write the list comprehension and by using \n",
    "the list comprehension we can write the code in a single line."
   ]
  },
  {
   "cell_type": "code",
   "execution_count": null,
   "metadata": {},
   "outputs": [],
   "source": []
  },
  {
   "cell_type": "code",
   "execution_count": null,
   "metadata": {},
   "outputs": [],
   "source": []
  }
 ],
 "metadata": {
  "kernelspec": {
   "display_name": "Python 3",
   "language": "python",
   "name": "python3"
  },
  "language_info": {
   "codemirror_mode": {
    "name": "ipython",
    "version": 3
   },
   "file_extension": ".py",
   "mimetype": "text/x-python",
   "name": "python",
   "nbconvert_exporter": "python",
   "pygments_lexer": "ipython3",
   "version": "3.8.8"
  }
 },
 "nbformat": 4,
 "nbformat_minor": 4
}
