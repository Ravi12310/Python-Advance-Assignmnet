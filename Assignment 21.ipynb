{
 "cells": [
  {
   "cell_type": "code",
   "execution_count": null,
   "id": "c1a875a4",
   "metadata": {},
   "outputs": [],
   "source": [
    "Q1. What is a probability distribution, exactly? If the values are meant to be random, how can you predict them at all?\n",
    "\n",
    "\n",
    "\n",
    "A probability distribution is a statistical function that describes all the possible values and likelihoods that a random \n",
    "variable can take within a given range. This range will be bounded between the minimum and maximum possible values, but \n",
    "precisely where the possible value is likely to be plotted on the probability distribution depends on a \n",
    "number of factors. These factors include the distribution's mean (average), standard deviation, skewness, and kurtosis."
   ]
  },
  {
   "cell_type": "code",
   "execution_count": null,
   "id": "5019642c",
   "metadata": {},
   "outputs": [],
   "source": [
    "Q2. Is there a distinction between true random numbers and pseudo-random numbers, if there is\n",
    "one? Why are the latter considered “good enough”?\n",
    "\n",
    "\n",
    "The difference between true random numbers and pseudo-random number is that true random numbers use an unpredictable physical \n",
    "means to generate numbers and pseudo random nunmbers use mathematical algorithms.pseudo random numbers's are sets of \n",
    "algorithms that utilize mathematical formulas to produce a certain sequence of numbers that will appear random, or at least \n",
    "will have the effect of randomness. Other random numbers use pre-calculated tables instead of mathematical formulas, but \n",
    "either way table or formula, the objective is still the same."
   ]
  },
  {
   "cell_type": "code",
   "execution_count": null,
   "id": "02479a0b",
   "metadata": {},
   "outputs": [],
   "source": [
    "Q3. What are the two main factors that influence the behaviour of a \"normal\" probability distribution?\n",
    "\n",
    "\n",
    "The probability of each value of the discrete random variable is between 0 and 1, inclusive, and the sum of all the probabilities is 1."
   ]
  },
  {
   "cell_type": "code",
   "execution_count": null,
   "id": "a64a0182",
   "metadata": {},
   "outputs": [],
   "source": [
    "Q4. Provide a real-life example of a normal distribution.\n",
    "\n",
    "\n",
    "\n",
    "The basic example of a normal distribution is height because in a real one there is some of the average heights."
   ]
  },
  {
   "cell_type": "code",
   "execution_count": null,
   "id": "1db6ab05",
   "metadata": {},
   "outputs": [],
   "source": [
    "Q5. In the short term, how can you expect a probability distribution to behave? What do you think will\n",
    "happen as the number of trials grows?\n",
    "\n",
    "\n",
    "\n",
    "the expected value is calculated by multiplying each of the possible outcomes by the likelihood each outcome will occur \n",
    "and then summing all of those values."
   ]
  },
  {
   "cell_type": "code",
   "execution_count": null,
   "id": "26a4b15b",
   "metadata": {},
   "outputs": [],
   "source": [
    "Q6. What kind of object can be shuffled by using random.shuffle?\n",
    "\n",
    "\n",
    "The shuffle() method takes a sequence, like a list, and reorganize the order of the items.\n",
    "This method changes the original list, it does not return a new list."
   ]
  },
  {
   "cell_type": "code",
   "execution_count": null,
   "id": "2b9b6456",
   "metadata": {},
   "outputs": [],
   "source": [
    "Q7. Describe the math package's general categories of functions.\n",
    "\n",
    "\n",
    "\n",
    "By using the math package we can get the all values and all the methods which is used for a mathematical functions and\n",
    "like a sq root and cube roots etc."
   ]
  },
  {
   "cell_type": "code",
   "execution_count": null,
   "id": "e9b7741f",
   "metadata": {},
   "outputs": [],
   "source": [
    "Q8. What is the relationship between exponentiation and logarithms?\n",
    "\n",
    "\n",
    "exponential means the exponents of the values and logarithms means we can get the log values and the related to log values\n",
    "we can get the values."
   ]
  },
  {
   "cell_type": "code",
   "execution_count": null,
   "id": "8b9b3802",
   "metadata": {},
   "outputs": [],
   "source": [
    "Q9. What are the three logarithmic functions that Python supports?\n",
    "\n",
    "\n",
    "\n",
    "log2(x)\n",
    "log(x, Base)\n",
    "log10(x)\n",
    "log1p(x)\n",
    "etc."
   ]
  },
  {
   "cell_type": "code",
   "execution_count": null,
   "id": "ccf3ad55",
   "metadata": {},
   "outputs": [],
   "source": []
  },
  {
   "cell_type": "code",
   "execution_count": null,
   "id": "0421ad23",
   "metadata": {},
   "outputs": [],
   "source": []
  },
  {
   "cell_type": "code",
   "execution_count": null,
   "id": "a2c77642",
   "metadata": {},
   "outputs": [],
   "source": []
  },
  {
   "cell_type": "code",
   "execution_count": null,
   "id": "254e2c29",
   "metadata": {},
   "outputs": [],
   "source": []
  },
  {
   "cell_type": "code",
   "execution_count": null,
   "id": "38a5fc66",
   "metadata": {},
   "outputs": [],
   "source": []
  }
 ],
 "metadata": {
  "kernelspec": {
   "display_name": "Python 3",
   "language": "python",
   "name": "python3"
  },
  "language_info": {
   "codemirror_mode": {
    "name": "ipython",
    "version": 3
   },
   "file_extension": ".py",
   "mimetype": "text/x-python",
   "name": "python",
   "nbconvert_exporter": "python",
   "pygments_lexer": "ipython3",
   "version": "3.8.8"
  }
 },
 "nbformat": 4,
 "nbformat_minor": 5
}
