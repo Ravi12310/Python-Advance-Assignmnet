{
 "cells": [
  {
   "cell_type": "code",
   "execution_count": null,
   "metadata": {},
   "outputs": [],
   "source": [
    "Q1. What are the two latest user-defined exception constraints in Python 3.X?\n",
    "\n",
    "using multiple inheritance exception\n",
    "Derived class Exceptions are created when a single module handles multiple several distinct errors. Here we created a base \n",
    "class for exceptions defined by that module. This base class is inherited by various user-defined class to handle different \n",
    "types of errors.\n",
    "using standard exceptions\n",
    "Runtime error is a built-in class which is raised whenever a generated error does not fall into mentioned categories. \n",
    "The program below explains how to use runtime error as base class and user-defined error as derived class.\n"
   ]
  },
  {
   "cell_type": "code",
   "execution_count": null,
   "metadata": {},
   "outputs": [],
   "source": [
    "Q2. How are class-based exceptions that have been raised matched to handlers?\n",
    "\n",
    "\n",
    "By using __str__ method we can use the class based or custom based exception."
   ]
  },
  {
   "cell_type": "code",
   "execution_count": null,
   "metadata": {},
   "outputs": [],
   "source": [
    "Q3. Describe two methods for attaching context information to exception artefacts.\n",
    "\n",
    "\n",
    "the __context__ attribute for implicitly chained exceptions, the __cause__ \n",
    "attribute for explicitly chained exceptions, and the __traceback__ attribute for the traceback of the exception."
   ]
  },
  {
   "cell_type": "code",
   "execution_count": null,
   "metadata": {},
   "outputs": [],
   "source": [
    "Q4. Describe two methods for specifying the text of an exception object's error message.\n",
    "\n",
    "\n",
    "When we try debug the the code it majorly throws two exceptions syntax or logical errors it throws all the time."
   ]
  },
  {
   "cell_type": "code",
   "execution_count": null,
   "metadata": {},
   "outputs": [],
   "source": [
    "Q5. Why do you no longer use string-based exceptions?\n",
    "\n",
    "\n",
    "Because the string base exception has changed to class defined exception or custom exception so it cannot used as normal\n",
    "exception in python."
   ]
  },
  {
   "cell_type": "code",
   "execution_count": null,
   "metadata": {},
   "outputs": [],
   "source": []
  },
  {
   "cell_type": "code",
   "execution_count": null,
   "metadata": {},
   "outputs": [],
   "source": []
  },
  {
   "cell_type": "code",
   "execution_count": null,
   "metadata": {},
   "outputs": [],
   "source": []
  }
 ],
 "metadata": {
  "kernelspec": {
   "display_name": "Python 3",
   "language": "python",
   "name": "python3"
  },
  "language_info": {
   "codemirror_mode": {
    "name": "ipython",
    "version": 3
   },
   "file_extension": ".py",
   "mimetype": "text/x-python",
   "name": "python",
   "nbconvert_exporter": "python",
   "pygments_lexer": "ipython3",
   "version": "3.8.5"
  }
 },
 "nbformat": 4,
 "nbformat_minor": 4
}
