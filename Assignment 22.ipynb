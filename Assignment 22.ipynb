{
 "cells": [
  {
   "cell_type": "code",
   "execution_count": null,
   "id": "118f1bd8",
   "metadata": {},
   "outputs": [],
   "source": [
    "Q1. What are the benefits of the built-in array package, if any?\n",
    "\n",
    "\n",
    "In python array is abuilt in function and it is like a list in python and there is no major differences in the list and array\n",
    "By using the built in packages we can get the code simpler and also having like the seperate package in python called\n",
    "numpy it is like numerical python."
   ]
  },
  {
   "cell_type": "code",
   "execution_count": null,
   "id": "af58b040",
   "metadata": {},
   "outputs": [],
   "source": [
    "Q2. What are some of the array package's limitations?\n",
    "\n",
    "\n",
    "the dimension of an array is determined the moment the array is created, and cannot be changed later \n",
    "the array occupies an amount of memory that is proportional to its size, independently of the number of elements that are \n",
    "actually of interest"
   ]
  },
  {
   "cell_type": "code",
   "execution_count": null,
   "id": "66254fde",
   "metadata": {},
   "outputs": [],
   "source": [
    "Q3. Describe the main differences between the array and numpy packages.\n",
    "\n",
    "\n",
    "\n",
    "Numpy is the core library for scientific computing in Python. It provides a high-performance multidimensional array object, and tools \n",
    "for working with these arrays. A numpy array is a grid of values, all of the same type, and is indexed by a tuple of \n",
    "nonnegative integers. The number of dimensions is the rank of the array; the shape of an array is a tuple of integers \n",
    "giving the size of the array along each dimension.\n",
    "The Python core library provided Lists. A list is the Python equivalent of an array, but is resizeable and can contain\n",
    "elements of different types."
   ]
  },
  {
   "cell_type": "code",
   "execution_count": null,
   "id": "ab689de1",
   "metadata": {},
   "outputs": [],
   "source": [
    "Explain the distinctions between the empty, ones, and zeros functions.\n",
    "\n",
    "\n",
    "empty() Return a new array of given shape and type, without initializing entries..\n",
    "ones() Return a new array of given shape and type, filled with ones.\n",
    "zeros() Return a new array of given shape and type, filled with zeros."
   ]
  },
  {
   "cell_type": "code",
   "execution_count": 14,
   "id": "132b132f",
   "metadata": {},
   "outputs": [
    {
     "name": "stdout",
     "output_type": "stream",
     "text": [
      "[0. 0. 0. 0. 0. 0. 0. 0. 0. 0.]\n",
      "[1 1]\n",
      "[0.]\n"
     ]
    }
   ],
   "source": [
    "import numpy as np\n",
    "print(np.zeros(10))\n",
    "print(np.ones(2,np.int8))\n",
    "print(np.empty(1))"
   ]
  },
  {
   "cell_type": "code",
   "execution_count": null,
   "id": "5c3eb012",
   "metadata": {},
   "outputs": [],
   "source": [
    "Q5. In the fromfunction function, which is used to construct new arrays, what is the role of the callable argument?\n",
    "\n",
    "\n",
    "\n",
    "The fromfunction() function is used to construct an array by executing a function over each coordinate."
   ]
  },
  {
   "cell_type": "code",
   "execution_count": 15,
   "id": "f83cbd45",
   "metadata": {},
   "outputs": [
    {
     "name": "stdout",
     "output_type": "stream",
     "text": [
      "[[0. 0. 0. 0.]\n",
      " [0. 1. 2. 3.]\n",
      " [0. 2. 4. 6.]\n",
      " [0. 3. 6. 9.]]\n"
     ]
    }
   ],
   "source": [
    "import numpy as np\n",
    "a = np.fromfunction(lambda i, j: i * j, (4, 4), dtype = float)    \n",
    "print(a)"
   ]
  },
  {
   "cell_type": "code",
   "execution_count": null,
   "id": "1ea9544e",
   "metadata": {},
   "outputs": [],
   "source": [
    "Q6. What happens when a numpy array is combined with a single-value operand (a scalar, such as\n",
    "an int or a floating-point value) through addition, as in the expression A + n?\n",
    "\n",
    "\n"
   ]
  },
  {
   "cell_type": "code",
   "execution_count": 17,
   "id": "f47e2d5d",
   "metadata": {},
   "outputs": [
    {
     "name": "stdout",
     "output_type": "stream",
     "text": [
      "[2 3 4 5]\n",
      "[ 2  4  8 16]\n"
     ]
    }
   ],
   "source": [
    "a = np.array([1, 2, 3, 4])\n",
    "print(a + 1)\n",
    "print(2**a)\n",
    "\n"
   ]
  },
  {
   "cell_type": "code",
   "execution_count": null,
   "id": "abbd0172",
   "metadata": {},
   "outputs": [],
   "source": [
    "Q7. Can array-to-scalar operations use combined operation-assign operators (such as + or *)? What is the outcome?"
   ]
  },
  {
   "cell_type": "code",
   "execution_count": 20,
   "id": "a4f282b3",
   "metadata": {},
   "outputs": [
    {
     "name": "stdout",
     "output_type": "stream",
     "text": [
      "[2 3 4 5]\n",
      "[1 2 3 4]\n"
     ]
    }
   ],
   "source": [
    "a = np.array([1, 2, 3, 4])\n",
    "print(a + 1)\n",
    "print(a*1)\n"
   ]
  },
  {
   "cell_type": "code",
   "execution_count": null,
   "id": "591e036f",
   "metadata": {},
   "outputs": [],
   "source": [
    "Q8. Does a numpy array contain fixed-length strings? What happens if you allocate a longer string to one of these arrays?\n",
    "\n",
    "\n"
   ]
  },
  {
   "cell_type": "code",
   "execution_count": 22,
   "id": "e735679e",
   "metadata": {},
   "outputs": [
    {
     "name": "stdout",
     "output_type": "stream",
     "text": [
      "['USA' 'Japan' 'UK' 'India' 'China']\n"
     ]
    }
   ],
   "source": [
    "country = np.array(['USA', 'Japan', 'UK',  'India', 'China'])\n",
    "print(country)"
   ]
  },
  {
   "cell_type": "code",
   "execution_count": null,
   "id": "e7f8ca7b",
   "metadata": {},
   "outputs": [],
   "source": [
    "Q9. What happens when you combine two numpy arrays using an operation like addition (+) or\n",
    "multiplication (*)? What are the conditions for combining two numpy arrays?\n",
    "\n",
    "\n"
   ]
  },
  {
   "cell_type": "code",
   "execution_count": 23,
   "id": "9d5289c9",
   "metadata": {},
   "outputs": [
    {
     "name": "stdout",
     "output_type": "stream",
     "text": [
      "[5 5 5 5]\n",
      "[4 6 6 4]\n"
     ]
    }
   ],
   "source": [
    "a = np.array([1, 2, 3, 4])\n",
    "b = np.array([4, 3, 2, 1])\n",
    "print(a+b)\n",
    "print(a*b)"
   ]
  },
  {
   "cell_type": "code",
   "execution_count": null,
   "id": "bdef36a4",
   "metadata": {},
   "outputs": [],
   "source": [
    "Q10. What is the best way to use a Boolean array to mask another array?\n",
    "\n",
    "\n",
    "masking means manipulated data in a collection based on some criteria. The criteria you use is typically of a true or false\n",
    "nature, hence the boolean part. Boolean masking is typically the most efficient way to quantify a sub-collection in a \n",
    "collection."
   ]
  },
  {
   "cell_type": "code",
   "execution_count": null,
   "id": "b78597e1",
   "metadata": {},
   "outputs": [],
   "source": [
    "Q11. What are three different ways to get the standard deviation of a wide collection of data using\n",
    "both standard Python and its packages? Sort the three of them by how quickly they execute.\n",
    "\n",
    "\n",
    "We can get the standard deviation using the numpy packages and by using the stats package and and our own python and by all \n",
    "that we can fastly gets by using the numpy package."
   ]
  },
  {
   "cell_type": "code",
   "execution_count": null,
   "id": "fd1e42e2",
   "metadata": {},
   "outputs": [],
   "source": []
  },
  {
   "cell_type": "code",
   "execution_count": 27,
   "id": "3b45e3c3",
   "metadata": {},
   "outputs": [],
   "source": []
  },
  {
   "cell_type": "code",
   "execution_count": null,
   "id": "79ba0c11",
   "metadata": {},
   "outputs": [],
   "source": []
  }
 ],
 "metadata": {
  "kernelspec": {
   "display_name": "Python 3",
   "language": "python",
   "name": "python3"
  },
  "language_info": {
   "codemirror_mode": {
    "name": "ipython",
    "version": 3
   },
   "file_extension": ".py",
   "mimetype": "text/x-python",
   "name": "python",
   "nbconvert_exporter": "python",
   "pygments_lexer": "ipython3",
   "version": "3.8.8"
  }
 },
 "nbformat": 4,
 "nbformat_minor": 5
}
