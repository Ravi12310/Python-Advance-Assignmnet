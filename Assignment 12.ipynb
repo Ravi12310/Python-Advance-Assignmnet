{
 "cells": [
  {
   "cell_type": "code",
   "execution_count": null,
   "metadata": {},
   "outputs": [],
   "source": [
    "Q1. Does assigning a value to a string's indexed character violate Python's string immutability?\n",
    "\n",
    "\n",
    "Strings are mutable, which means we can change an existing string. as it produces a run time error."
   ]
  },
  {
   "cell_type": "code",
   "execution_count": null,
   "metadata": {},
   "outputs": [],
   "source": [
    "Q2. Does using the += operator to concatenate strings violate Python's string immutability? Why or\n",
    "why not?\n",
    "\n",
    "\n",
    "Yes, but with += on immutable objects, the old and new values are supposed to have overlapping . The new value is supposed\n",
    "to be created before the assignment happens, and the old value's will ends once the new value is assigned to the variable."
   ]
  },
  {
   "cell_type": "code",
   "execution_count": null,
   "metadata": {},
   "outputs": [],
   "source": [
    "Q3. In Python, how many different ways are there to index a character?\n",
    "\n",
    "\n",
    "We can index the characters in python using positive indexing and negitive indexing."
   ]
  },
  {
   "cell_type": "code",
   "execution_count": null,
   "metadata": {},
   "outputs": [],
   "source": [
    "Q4. What is the relationship between indexing and slicing?\n",
    "\n",
    "\n",
    "indexing will gives that particular values only it will display means a single word or character it will trigger.\n",
    "slicing means it displays will slice and it gives the output for a given condition like it will give a group of characters \n",
    "values or a word of that string or any data type."
   ]
  },
  {
   "cell_type": "code",
   "execution_count": null,
   "metadata": {},
   "outputs": [],
   "source": [
    "Q5. What is an indexed character's exact data type? What is the data form of a slicing-generated\n",
    "substring?\n",
    "\n",
    "\n",
    "We can get the index character using [] square brackets and [:] will gives the slicing generated values of the \n",
    "particular data type."
   ]
  },
  {
   "cell_type": "code",
   "execution_count": null,
   "metadata": {},
   "outputs": [],
   "source": [
    "Q6. What is the relationship between string and character \"types\" in Python?\n",
    "\n",
    "\n",
    "In Python, Strings are arrays of bytes representing Unicode characters. Python does not have a character data type, a \n",
    "single character is simply a string with a length of 1. Square brackets can be used to access elements of the string."
   ]
  },
  {
   "cell_type": "code",
   "execution_count": null,
   "metadata": {},
   "outputs": [],
   "source": [
    "Q7. Identify at least two operators and one method that allow you to combine one or more smaller\n",
    "strings to create a larger string.\n",
    "\n",
    "\n",
    "By creating the two strings firstly and then by creating the third variable and using the addition operator we can able\n",
    "to add the strings and with multiply operator we can multiply that times of that particular string which gives \n",
    "basically a larger string."
   ]
  },
  {
   "cell_type": "code",
   "execution_count": null,
   "metadata": {},
   "outputs": [],
   "source": [
    "Q8. What is the benefit of first checking the target string with in or not in before using the index\n",
    "method to find a substring?\n",
    "\n",
    "\n",
    "Finding the string(substring) in a string is an application that has many uses in day-to-day life. Python offers this usin \n",
    "a function index(), which returns the position of the  Return Value and Returns the first position of the substring found.\n",
    "in the case when the argument string is not found in the target string."
   ]
  },
  {
   "cell_type": "code",
   "execution_count": null,
   "metadata": {},
   "outputs": [],
   "source": [
    "Q9. Which operators and built-in string methods produce simple Boolean (true/false) results?\n",
    "\n",
    "\n",
    "Basically boolean operator looks after these true or false values in python."
   ]
  },
  {
   "cell_type": "code",
   "execution_count": null,
   "metadata": {},
   "outputs": [],
   "source": []
  },
  {
   "cell_type": "code",
   "execution_count": null,
   "metadata": {},
   "outputs": [],
   "source": []
  },
  {
   "cell_type": "code",
   "execution_count": null,
   "metadata": {},
   "outputs": [],
   "source": []
  },
  {
   "cell_type": "code",
   "execution_count": null,
   "metadata": {},
   "outputs": [],
   "source": []
  },
  {
   "cell_type": "code",
   "execution_count": null,
   "metadata": {},
   "outputs": [],
   "source": []
  }
 ],
 "metadata": {
  "kernelspec": {
   "display_name": "Python 3",
   "language": "python",
   "name": "python3"
  },
  "language_info": {
   "codemirror_mode": {
    "name": "ipython",
    "version": 3
   },
   "file_extension": ".py",
   "mimetype": "text/x-python",
   "name": "python",
   "nbconvert_exporter": "python",
   "pygments_lexer": "ipython3",
   "version": "3.8.5"
  }
 },
 "nbformat": 4,
 "nbformat_minor": 4
}
