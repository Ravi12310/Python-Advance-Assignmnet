{
 "cells": [
  {
   "cell_type": "code",
   "execution_count": null,
   "metadata": {},
   "outputs": [],
   "source": [
    "Q1. What is the purpose of Python OOP?\n",
    "\n",
    "In every language there is a OOP language. OOP stands for object oriented programming. By oops we can use the reusability\n",
    "of the code and we can use where ever we wants and just calling by oops. And with this the programming will gets modular\n",
    "programming with out oops also we can write programming and with oops structure of the program and code will gets efficient"
   ]
  },
  {
   "cell_type": "code",
   "execution_count": null,
   "metadata": {},
   "outputs": [],
   "source": [
    "Q2. Where does an inheritance search look for an attribute?\n",
    "\n",
    "All of these objects are namespaces (packages of variables), and the inheritance search is simply a search of the tree \n",
    "from bottom to top looking for the lowest occurrence of an attribute name."
   ]
  },
  {
   "cell_type": "code",
   "execution_count": null,
   "metadata": {},
   "outputs": [],
   "source": [
    "Q3. How do you distinguish between a class object and an instance object?\n",
    "\n",
    "\n",
    "The class is like a blueprint. And the object is a real thing based on the blueprint. An instance is a virtual copy of the\n",
    "object."
   ]
  },
  {
   "cell_type": "code",
   "execution_count": null,
   "metadata": {},
   "outputs": [],
   "source": [
    "Q4. What makes the first argument in a class’s method function special?\n",
    "\n",
    "\n",
    "It auctually takes the parameter as self which is a special argument and after the class function and in the def function\n",
    "it will takes the word like __init__ which is known as initialization and within the parameter we denotes like self keyword\n",
    "and which is not mandatory self we can keep any of the word."
   ]
  },
  {
   "cell_type": "code",
   "execution_count": null,
   "metadata": {},
   "outputs": [],
   "source": [
    "Q5. What is the purpose of the __init__ method?\n",
    "\n",
    "\n",
    "__init__ is basically initialization of the function and it is used after the class function and we can keep these thing \n",
    "__init__ to initialise the parameters like self which is auctually uses like parameter of the function."
   ]
  },
  {
   "cell_type": "code",
   "execution_count": null,
   "metadata": {},
   "outputs": [],
   "source": [
    "Q6. What is the process for creating a class instance?\n",
    "\n",
    "\n",
    "When you create an object, you are creating an instance of a class, therefore instantiating a class. The new operator \n",
    "requires a single, postfix argument: a call to a constructor. The name of the constructor provides the name of the class \n",
    "to instantiate. The constructor initializes the new object."
   ]
  },
  {
   "cell_type": "code",
   "execution_count": null,
   "metadata": {},
   "outputs": [],
   "source": [
    "Q7. What is the process for creating a class?\n",
    "\n",
    "\n",
    "By using the inbuilt keyword in python like class will automatically created a class and class after we want to give like\n",
    "class name and it creates a class."
   ]
  },
  {
   "cell_type": "code",
   "execution_count": null,
   "metadata": {},
   "outputs": [],
   "source": [
    "Q8. How would you define the superclasses of a class?\n",
    "\n",
    "\n",
    "The class from which a class inherits is called the parent or superclass. A class which inherits from a superclass is \n",
    "called a subclass, also called heir class or child class. Superclasses are sometimes called ancestors as well. \n",
    "There exists a hierarchical relationship between classes."
   ]
  },
  {
   "cell_type": "code",
   "execution_count": null,
   "metadata": {},
   "outputs": [],
   "source": []
  },
  {
   "cell_type": "code",
   "execution_count": null,
   "metadata": {},
   "outputs": [],
   "source": []
  },
  {
   "cell_type": "code",
   "execution_count": null,
   "metadata": {},
   "outputs": [],
   "source": []
  }
 ],
 "metadata": {
  "kernelspec": {
   "display_name": "Python 3",
   "language": "python",
   "name": "python3"
  },
  "language_info": {
   "codemirror_mode": {
    "name": "ipython",
    "version": 3
   },
   "file_extension": ".py",
   "mimetype": "text/x-python",
   "name": "python",
   "nbconvert_exporter": "python",
   "pygments_lexer": "ipython3",
   "version": "3.8.8"
  }
 },
 "nbformat": 4,
 "nbformat_minor": 4
}
