{
 "cells": [
  {
   "cell_type": "code",
   "execution_count": null,
   "metadata": {},
   "outputs": [],
   "source": [
    "1. What are the new features added in Python 3.8 version?\n",
    "\n",
    "\n",
    "Using assignment expressions to simplify some code constructs.Enforcing positional-only arguments in your own functions\n",
    "Specifying more precise type hints.Using f-strings for simpler debugging.\n",
    "the introduction of assignment expressions. They are written using a new notation (:=). This operator is often called the \n",
    "walrus operator as it resembles the eyes and tusks of a walrus on its side. Assignment expressions allow you to assign and \n",
    "return a value in the same expression"
   ]
  },
  {
   "cell_type": "code",
   "execution_count": null,
   "metadata": {},
   "outputs": [],
   "source": [
    "2. What is monkey patching in Python?\n",
    "\n",
    "\n",
    "In simple words, a class or module's work can be changed at the runtime. When we work on a large project, we may encounter \n",
    "a situation where the third-party library is not working well. So we attempt to revise (or change) it from our project. \n",
    "This process is known as monkey patching in Python.In monkey patching, we can reopen the class and modify its behavio"
   ]
  },
  {
   "cell_type": "code",
   "execution_count": null,
   "metadata": {},
   "outputs": [],
   "source": [
    "3. What is the difference between a shallow copy and deep copy?\n",
    "\n",
    "\n",
    "A shallow copy constructs a new compound object and then it possible inserts references into it to the objects found in \n",
    "the original. A deep copy constructs a new compound object and then, recursively, inserts copies into it of the objects \n",
    "found in the original.\n"
   ]
  },
  {
   "cell_type": "code",
   "execution_count": null,
   "metadata": {},
   "outputs": [],
   "source": [
    "4. What is the maximum possible length of an identifier?\n",
    "\n",
    "\n",
    "In Python, the highest possible length of an identifier is 79 characters"
   ]
  },
  {
   "cell_type": "code",
   "execution_count": null,
   "metadata": {},
   "outputs": [],
   "source": [
    "5. What is generator comprehension?\n",
    "\n",
    "\n",
    "A generator comprehension is a single-line specification for defining a generator in Python. It is absolutely essential to \n",
    "learn this syntax in order to write simple and readable code"
   ]
  },
  {
   "cell_type": "code",
   "execution_count": null,
   "metadata": {},
   "outputs": [],
   "source": []
  },
  {
   "cell_type": "code",
   "execution_count": null,
   "metadata": {},
   "outputs": [],
   "source": []
  }
 ],
 "metadata": {
  "kernelspec": {
   "display_name": "Python 3",
   "language": "python",
   "name": "python3"
  },
  "language_info": {
   "codemirror_mode": {
    "name": "ipython",
    "version": 3
   },
   "file_extension": ".py",
   "mimetype": "text/x-python",
   "name": "python",
   "nbconvert_exporter": "python",
   "pygments_lexer": "ipython3",
   "version": "3.8.5"
  }
 },
 "nbformat": 4,
 "nbformat_minor": 4
}
