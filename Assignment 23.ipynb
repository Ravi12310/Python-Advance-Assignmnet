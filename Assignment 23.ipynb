{
 "cells": [
  {
   "cell_type": "code",
   "execution_count": null,
   "id": "77e38302",
   "metadata": {},
   "outputs": [],
   "source": [
    "Q1. If you have any, what are your choices for increasing the comparison between different figures on the same graph?\n",
    "\n",
    "\n",
    "\n",
    "By using their pre defined graphs and parameters we can able to change the length dimensions and for every graph there is a\n",
    "certain own parameters and it can help to change the graphs and we can see the differences between them."
   ]
  },
  {
   "cell_type": "code",
   "execution_count": null,
   "id": "aaf03f9d",
   "metadata": {},
   "outputs": [],
   "source": [
    "Q2. Can you explain the benefit of compound interest over a higher rate of interest that does not\n",
    "compound after reading this chapter?\n",
    "\n",
    "\n",
    "Simple interest is calculated on the principal, or original, amount \n",
    "Compound interest is calculated on the principal amount and the accumulated interest of previous periods, and thus can be regarded as “interest on interest.”"
   ]
  },
  {
   "cell_type": "code",
   "execution_count": null,
   "id": "2bd5ec77",
   "metadata": {},
   "outputs": [],
   "source": [
    "Q3. What is a histogram, exactly? Name a numpy method for creating such a graph.\n",
    "\n",
    "\n",
    "histogram graph will tells the distribution among the features which is highly distributed and which is low distributed\n",
    "by using bins we can get the length of the features among them.\n",
    "numpy.histogram() will displays the histogram graph"
   ]
  },
  {
   "cell_type": "code",
   "execution_count": null,
   "id": "a372dd61",
   "metadata": {},
   "outputs": [],
   "source": [
    "Q4. If necessary, how do you change the aspect ratios between the X and Y axes?\n",
    "\n",
    "\n",
    "By using the plt.yaxis we can change the axis of y\n",
    "and By using the plt.xaxis we can change the axis of x."
   ]
  },
  {
   "cell_type": "code",
   "execution_count": null,
   "id": "7081a792",
   "metadata": {},
   "outputs": [],
   "source": [
    "Q5. Before you buy a home, which numpy function will you use to measure your monthly mortgage payment?\n",
    "\n",
    "\n",
    "By usning the pie chart we can gets the total monthly expenditure, savings, and etc by that we can get the values "
   ]
  },
  {
   "cell_type": "code",
   "execution_count": null,
   "id": "59bcf617",
   "metadata": {},
   "outputs": [],
   "source": [
    "Q6. Can string data be stored in numpy arrays? If so, list at least one restriction that applies to this data.\n",
    "\n",
    "\n",
    "We can store the string data in a numpy array and in python numpy is like a list."
   ]
  },
  {
   "cell_type": "code",
   "execution_count": null,
   "id": "de144bf0",
   "metadata": {},
   "outputs": [],
   "source": []
  },
  {
   "cell_type": "code",
   "execution_count": null,
   "id": "7ae86f53",
   "metadata": {},
   "outputs": [],
   "source": []
  },
  {
   "cell_type": "code",
   "execution_count": null,
   "id": "9168530e",
   "metadata": {},
   "outputs": [],
   "source": []
  },
  {
   "cell_type": "code",
   "execution_count": null,
   "id": "c1578971",
   "metadata": {},
   "outputs": [],
   "source": []
  }
 ],
 "metadata": {
  "kernelspec": {
   "display_name": "Python 3",
   "language": "python",
   "name": "python3"
  },
  "language_info": {
   "codemirror_mode": {
    "name": "ipython",
    "version": 3
   },
   "file_extension": ".py",
   "mimetype": "text/x-python",
   "name": "python",
   "nbconvert_exporter": "python",
   "pygments_lexer": "ipython3",
   "version": "3.8.8"
  }
 },
 "nbformat": 4,
 "nbformat_minor": 5
}
