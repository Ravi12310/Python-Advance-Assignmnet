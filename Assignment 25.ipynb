{
 "cells": [
  {
   "cell_type": "code",
   "execution_count": null,
   "id": "d8e1f5e0",
   "metadata": {},
   "outputs": [],
   "source": [
    "Q1. What is the distinction between a numpy array and a pandas data frame? Is there a way to\n",
    "convert between the two if there is?\n",
    "\n",
    "\n",
    "There is a difference between numpy array and pandas data frame and the array is like a series which has values in the \n",
    "form of series and pandas can store the total values and all the data types which hs no limit we can store them using pandas\n"
   ]
  },
  {
   "cell_type": "code",
   "execution_count": 7,
   "id": "866353fd",
   "metadata": {},
   "outputs": [
    {
     "name": "stdout",
     "output_type": "stream",
     "text": [
      "<class 'numpy.ndarray'>\n",
      "<class 'pandas.core.frame.DataFrame'>\n"
     ]
    }
   ],
   "source": [
    "import numpy as np\n",
    "a = np.array([1,2,3])\n",
    "print(type(a))\n",
    "import pandas as pd\n",
    "b = pd.DataFrame(a)\n",
    "print(type(b))"
   ]
  },
  {
   "cell_type": "code",
   "execution_count": null,
   "id": "5f236ab8",
   "metadata": {},
   "outputs": [],
   "source": [
    "Q2. What can go wrong when an user enters in a stock-ticker symbol, and how do you handle it?\n",
    "\n",
    "\n",
    "\n",
    "Ticker Symbol is the use of letters to represent shares that are traded on the stock market and it is mainly a combination\n",
    "of two or three alphabets that is unique \n",
    "and easy for investors to identify and buy/sell that particular stock with the help of this symbol on the stock exchange."
   ]
  },
  {
   "cell_type": "code",
   "execution_count": null,
   "id": "3e26fc52",
   "metadata": {},
   "outputs": [],
   "source": [
    "Q3. Identify some of the plotting techniques that are used to produce a stock-market chart.\n",
    "\n",
    "\n",
    "\n",
    "By using line graph,bar graph, time series graphs we can able to construct the time series graph and with that we can\n",
    "easily understood the data."
   ]
  },
  {
   "cell_type": "code",
   "execution_count": null,
   "id": "b9051af4",
   "metadata": {},
   "outputs": [],
   "source": [
    "Q4. Why is it essential to print a legend on a stock market chart?\n",
    "\n",
    "\n",
    "\n",
    "A Legend is a representation of legend keys or entries on the plotted area of a chart or graph, \n",
    "which are linked to the data table of the chart or graph."
   ]
  },
  {
   "cell_type": "code",
   "execution_count": null,
   "id": "8d7b8496",
   "metadata": {},
   "outputs": [],
   "source": [
    "Q5. What is the best way to limit the length of a pandas data frame to less than a year?\n",
    "\n",
    "\n",
    "By using the column name and the number of entries our want we can make it as a less or upper than that and also having the\n",
    "functions in a pandas."
   ]
  },
  {
   "cell_type": "code",
   "execution_count": null,
   "id": "72f5cf1e",
   "metadata": {},
   "outputs": [],
   "source": [
    "Q6. What is the definition of a 180-day moving average?\n",
    "\n",
    "\n",
    "\n",
    "Moving average is a simple, technical analysis tool. Moving averages are usually calculated to identify the trend direction \n",
    "of a stock or to determine its support and resistance levels. It is a trend-following—or lagging—indicator because it is \n",
    "based on past prices."
   ]
  },
  {
   "cell_type": "code",
   "execution_count": null,
   "id": "c94ed278",
   "metadata": {},
   "outputs": [],
   "source": []
  },
  {
   "cell_type": "code",
   "execution_count": null,
   "id": "e2d9873d",
   "metadata": {},
   "outputs": [],
   "source": []
  },
  {
   "cell_type": "code",
   "execution_count": null,
   "id": "88881663",
   "metadata": {},
   "outputs": [],
   "source": []
  },
  {
   "cell_type": "code",
   "execution_count": null,
   "id": "9b558be7",
   "metadata": {},
   "outputs": [],
   "source": []
  },
  {
   "cell_type": "code",
   "execution_count": null,
   "id": "1ad15486",
   "metadata": {},
   "outputs": [],
   "source": []
  }
 ],
 "metadata": {
  "kernelspec": {
   "display_name": "Python 3",
   "language": "python",
   "name": "python3"
  },
  "language_info": {
   "codemirror_mode": {
    "name": "ipython",
    "version": 3
   },
   "file_extension": ".py",
   "mimetype": "text/x-python",
   "name": "python",
   "nbconvert_exporter": "python",
   "pygments_lexer": "ipython3",
   "version": "3.8.8"
  }
 },
 "nbformat": 4,
 "nbformat_minor": 5
}
