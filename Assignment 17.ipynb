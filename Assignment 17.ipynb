{
 "cells": [
  {
   "cell_type": "code",
   "execution_count": null,
   "id": "5c7d9691",
   "metadata": {},
   "outputs": [],
   "source": [
    "Q1. Explain the difference between greedy and non-greedy syntax with visual terms in as few words\n",
    "as possible. What is the bare minimum effort required to transform a greedy pattern into a non-greedy\n",
    "one? What characters or characters can you introduce or change?\n",
    "\n",
    "\n",
    "The usual rule for matching in REs is sometimes called “left-most longest“: when a pattern can be matched at more than one \n",
    "place within a string, the chosen match will be the one that starts at the earliest possible position within the string, \n",
    "and then extends as far as possible. Normally Perl pattern matching is greedy. \n",
    "By greedy, we mean that the parser tries to match as much as possible."
   ]
  },
  {
   "cell_type": "code",
   "execution_count": null,
   "id": "70555bd8",
   "metadata": {},
   "outputs": [],
   "source": [
    "Q2. In a simple match of a string, which looks only for one match and does not do any replacement, is\n",
    "the use of a nontagged group likely to make any practical difference?\n",
    "\n",
    "\n",
    "Strings in Python can be defined using either single or double quotations (they are ... For basic manipulation of strings, \n",
    "Python's built-in string methods can be ... A common formatting need is to capitalize just the first letter of each word,\n",
    "Thus, the regular expression matches any substring consisting of one or more spaces."
   ]
  },
  {
   "cell_type": "code",
   "execution_count": null,
   "id": "e843afda",
   "metadata": {},
   "outputs": [],
   "source": [
    "Q3. When exactly does greedy versus non-greedy make a difference?  What if you&#39;re looking for a\n",
    "non-greedy match but the only one available is greedy?\n",
    "\n",
    "\n",
    "These common words do not make it obvious why the regexp fails, so let’s elaborate how the search works for the pattern \".+\"\n",
    "The first pattern character is a quote \".\n",
    "The quote is detected, and then the engine tries to find a match for the rest of the pattern. It tries to see if the rest \n",
    "of the subject string conforms to .+\".\n",
    "Lazy mode:\n",
    "The lazy mode of quantifiers is an opposite to the greedy mode. It means: “repeat minimal number of times”.\n",
    "\n",
    "We can enable it by putting a question mark '?' after the quantifier, so that it becomes *? or +? or even ?? for '?'."
   ]
  },
  {
   "cell_type": "code",
   "execution_count": null,
   "id": "b1574964",
   "metadata": {},
   "outputs": [],
   "source": [
    "Q4. Describe a scenario in which using a nontagged category would have a significant impact on the\n",
    "program's outcomes.\n",
    "\n",
    "\n",
    "Guidelines for Writing Effective, Measurable Program Learning Outcomes ... The conditions of the outcome should communicate \n",
    "the situation, tools, ... Learning outcomes should have two parts: an action verb and a content area. \n",
    "Use active verbs that describe what a student will be able to do once learning has occurred"
   ]
  },
  {
   "cell_type": "code",
   "execution_count": null,
   "id": "f06319f0",
   "metadata": {},
   "outputs": [],
   "source": [
    "Q5. Unlike a normal regex pattern, a look-ahead condition does not consume the characters it\n",
    "examines. Describe a situation in which this could make a difference in the results of your programme.\n",
    "\n",
    "\n",
    "\n",
    "A regex is a special sequence of characters that defines a pattern for complex ... in this Strings and Character Data in \n",
    "Python, you learned how to define and ... String matching like this is a common task in programming, \n",
    "and you can get a lot  One way to do this is to import the entire module and then we use this module"
   ]
  },
  {
   "cell_type": "code",
   "execution_count": null,
   "id": "c3640e73",
   "metadata": {},
   "outputs": [],
   "source": [
    "Q6. In standard expressions, what is the difference between positive look-ahead and negative look-\n",
    "ahead?\n",
    "\n",
    "\n",
    "Lookbehind has the same effect, but works backwards. It tells the regex engine to temporarily step backwards in the string,\n",
    "to check if the text inside the lookbehind \n",
    "can be matched there. (? <!a)b matches a “b” that is not preceded by an “a”, using negative lookbehind."
   ]
  },
  {
   "cell_type": "code",
   "execution_count": null,
   "id": "5fbbd635",
   "metadata": {},
   "outputs": [],
   "source": [
    "Q7. What is the benefit of referring to groups by name rather than by number in a standard expression?\n",
    "\n",
    "\n",
    "Matching Floating Point Numbers with a Regular Expression . ... This tutorial is quite unique because it not only explains \n",
    "the regex syntax, but also describes how the  another benefit: you can insert them \n",
    "into a regular expression without changing the numbers .group, you can easily reference it by name."
   ]
  },
  {
   "cell_type": "code",
   "execution_count": null,
   "id": "078df418",
   "metadata": {},
   "outputs": [],
   "source": [
    "Q8. Can you identify repeated items within a target string using named groups, as in \"The cow\n",
    "jumped over the moon\"?\n",
    "\n",
    "\n",
    "We can identify by using a regular expression and it is used to find the alphabets in the word or a string"
   ]
  },
  {
   "cell_type": "code",
   "execution_count": null,
   "id": "8fc8f8ee",
   "metadata": {},
   "outputs": [],
   "source": [
    "Q9. Does a scanner object have to be named scanner?\n",
    "\n",
    "\n",
    "To create an object of Scanner class, we usually pass the predefined object "
   ]
  }
 ],
 "metadata": {
  "kernelspec": {
   "display_name": "Python 3",
   "language": "python",
   "name": "python3"
  },
  "language_info": {
   "codemirror_mode": {
    "name": "ipython",
    "version": 3
   },
   "file_extension": ".py",
   "mimetype": "text/x-python",
   "name": "python",
   "nbconvert_exporter": "python",
   "pygments_lexer": "ipython3",
   "version": "3.8.8"
  }
 },
 "nbformat": 4,
 "nbformat_minor": 5
}
