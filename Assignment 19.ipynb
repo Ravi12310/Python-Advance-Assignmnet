{
 "cells": [
  {
   "cell_type": "code",
   "execution_count": null,
   "id": "e48bfb78",
   "metadata": {},
   "outputs": [],
   "source": [
    "Q1. Define the relationship between a class and its instances. Is it a one-to-one or a one-to-many\n",
    "partnership, for example?\n",
    "\n",
    "\n",
    "class is constructed by using a class functiion which is inbuilt function in python.\n",
    "Instance variables are owned by instances of the class. This means that for each object or instance of a class, \n",
    "the instance variables are different."
   ]
  },
  {
   "cell_type": "code",
   "execution_count": 2,
   "id": "31b2d3b4",
   "metadata": {},
   "outputs": [
    {
     "name": "stdout",
     "output_type": "stream",
     "text": [
      "fish\n",
      "Sammy\n",
      "5\n"
     ]
    }
   ],
   "source": [
    "### Example \n",
    "class Shark:\n",
    "    animal_type = \"fish\"\n",
    "\n",
    "new_shark = Shark()\n",
    "print(new_shark.animal_type)\n",
    "\n",
    "\n",
    "### Multi instances\n",
    "class Shark:\n",
    "    def __init__(self, name, age):\n",
    "        self.name = name\n",
    "        self.age = age\n",
    "\n",
    "new_shark = Shark(\"Sammy\", 5)\n",
    "print(new_shark.name)\n",
    "print(new_shark.age)"
   ]
  },
  {
   "cell_type": "code",
   "execution_count": null,
   "id": "fd7f2784",
   "metadata": {},
   "outputs": [],
   "source": [
    "Q2. What kind of data is held only in an instance?\n",
    "\n",
    "\n",
    "\n",
    "Python has a built-in function called instance() that compares the value with the type given. It the value and type given\n",
    "matches it will return true otherwise false. Using isinstance(), you can test for string, float, int, list, tuple, dict, \n",
    "set, class, etc"
   ]
  },
  {
   "cell_type": "code",
   "execution_count": null,
   "id": "f583c841",
   "metadata": {},
   "outputs": [],
   "source": [
    "Q3. What kind of knowledge is stored in a class?\n",
    "\n",
    "\n",
    "Class creates a user-defined data structure, which holds its own data members and member functions, which can be accessed \n",
    "and used by creating an instance of that class. A class is like a blueprint for an object."
   ]
  },
  {
   "cell_type": "code",
   "execution_count": null,
   "id": "8a7f14df",
   "metadata": {},
   "outputs": [],
   "source": [
    "Q4. What exactly is a method, and how is it different from a regular function?\n",
    "\n",
    "\n",
    "\n",
    "method will gets the properties and functions of a class in python and regular expression is a seperate function"
   ]
  },
  {
   "cell_type": "code",
   "execution_count": null,
   "id": "836c6abe",
   "metadata": {},
   "outputs": [],
   "source": [
    "Q5. Is inheritance supported in Python, and if so, what is the syntax?\n",
    "\n",
    "\n",
    "yes inheritence supports in python and there are lot of inheritence in python\n",
    "class A():\n",
    "    def func:\n",
    "        parameters\n",
    "        \n",
    "        \n",
    "class B(A):\n",
    "    def func:\n",
    "        parameters"
   ]
  },
  {
   "cell_type": "code",
   "execution_count": null,
   "id": "1b26b77f",
   "metadata": {},
   "outputs": [],
   "source": [
    "Q6. How much encapsulation (making instance or class variables private) does Python support?\n",
    "\n",
    "\n",
    "\n",
    "yes python supports encapsulation but when compared to other programming languages python donot have that must of \n",
    "encapsulation and like public private and protected"
   ]
  },
  {
   "cell_type": "code",
   "execution_count": null,
   "id": "52273a1a",
   "metadata": {},
   "outputs": [],
   "source": [
    "Q7. How do you distinguish between a class variable and an instance variable?\n",
    "\n",
    "\n",
    "\n",
    "Python instance variables can have different values across multiple instances of a class. Class variables share the same \n",
    "value among all instances of the class. The value of instance variables can differ across each instance of a class. \n",
    "Class variables can only be assigned when a class has been defined."
   ]
  },
  {
   "cell_type": "code",
   "execution_count": null,
   "id": "39459cef",
   "metadata": {},
   "outputs": [],
   "source": [
    "Q8. When, if ever, can self be included in a class&#39;s method definitions?\n",
    "\n",
    "\n",
    "\n",
    "After a class function and then we define our own function and inside that function and fist parameter always takes a self\n",
    " parameter which is just like a keyword and we can tahe any name also"
   ]
  },
  {
   "cell_type": "code",
   "execution_count": null,
   "id": "a0123c36",
   "metadata": {},
   "outputs": [],
   "source": [
    "Q9. What is the difference between the _ _add_ _ and the _ _radd_ _ methods?\n",
    "\n",
    "\n",
    "\n",
    "Magic methods are not meant to be invoked directly by you, but the invocation happens internally from the class on a \n",
    "certain action. For example, when you add two numbers using the + operator, internally, the __add__() method will be called\n",
    "\n"
   ]
  },
  {
   "cell_type": "code",
   "execution_count": null,
   "id": "8b836fc4",
   "metadata": {},
   "outputs": [],
   "source": [
    "Q10. What is the _ _iadd_ _ method called?\n",
    "\n",
    "\n",
    "To get called on addition with assignment"
   ]
  },
  {
   "cell_type": "code",
   "execution_count": null,
   "id": "47bca6bd",
   "metadata": {},
   "outputs": [],
   "source": []
  },
  {
   "cell_type": "code",
   "execution_count": null,
   "id": "19c592bc",
   "metadata": {},
   "outputs": [],
   "source": []
  },
  {
   "cell_type": "code",
   "execution_count": null,
   "id": "aa7523e0",
   "metadata": {},
   "outputs": [],
   "source": []
  },
  {
   "cell_type": "code",
   "execution_count": null,
   "id": "5b74a32f",
   "metadata": {},
   "outputs": [],
   "source": []
  }
 ],
 "metadata": {
  "kernelspec": {
   "display_name": "Python 3",
   "language": "python",
   "name": "python3"
  },
  "language_info": {
   "codemirror_mode": {
    "name": "ipython",
    "version": 3
   },
   "file_extension": ".py",
   "mimetype": "text/x-python",
   "name": "python",
   "nbconvert_exporter": "python",
   "pygments_lexer": "ipython3",
   "version": "3.8.8"
  }
 },
 "nbformat": 4,
 "nbformat_minor": 5
}
