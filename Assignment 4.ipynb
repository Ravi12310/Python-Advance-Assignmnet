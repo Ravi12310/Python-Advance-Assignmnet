{
 "cells": [
  {
   "cell_type": "code",
   "execution_count": null,
   "metadata": {},
   "outputs": [],
   "source": [
    "Q1. Which two operator overloading methods can you use in your classes to support iteration?\n",
    "\n",
    "\n",
    "The \"+\" operator and __init__ will overload the methods in python overloading concepts."
   ]
  },
  {
   "cell_type": "code",
   "execution_count": null,
   "metadata": {},
   "outputs": [],
   "source": [
    "Q2. In what contexts do the two operator overloading methods manage printing?\n",
    "\n",
    "\n",
    "Two methods cannot have the same name in Python. Method overloading in Python is a feature that allows \n",
    "the same operator to have different meanings. \n",
    "\n",
    "example for method overload:\n",
    "class Person:\n",
    "def Hello(self, name=None):\n",
    "if name is not None:\n",
    "print('Hello ' + name)\n",
    "else:\n",
    "print('Hello ')\n",
    "# Create instance\n",
    "obj = Person()\n",
    "# Call the method\n",
    "obj.Hello()\n",
    "# Call the method with a parameter\n",
    "obj.Hello(\"this will overload the method\")\n",
    "\n",
    "By using the creation of object we can overload the method in python"
   ]
  },
  {
   "cell_type": "code",
   "execution_count": null,
   "metadata": {},
   "outputs": [],
   "source": [
    "Q3. In a class, how do you intercept slice operations?\n",
    "\n",
    "\n",
    "A sequence of object of any  data type or the object which implements \n",
    "__getitem__() and __len__() method then this object can be sliced using slice() method."
   ]
  },
  {
   "cell_type": "code",
   "execution_count": null,
   "metadata": {},
   "outputs": [],
   "source": [
    "Q4. In a class, how do you capture in-place addition?\n",
    "\n",
    "\n",
    " _iadd_ method  takes two arguments, but it makes in-place change in 1st argument passed by storing the sum in it. \n",
    "As object mutation is needed in this process, immutable targets such as numbers, strings and tuples, shouldn’t \n",
    "have _iadd_ method.\n",
    "Inplace operator’s “iadd()” method, implements “a+=b” if it exists  and changes the value of passed argument. \n",
    "But if not, “a+b” is implemented.\n"
   ]
  },
  {
   "cell_type": "code",
   "execution_count": null,
   "metadata": {},
   "outputs": [],
   "source": [
    "Q5. When is it appropriate to use operator overloading?\n",
    "\n",
    "\n",
    "Python does not support method overloading, that is, it is not possible to define more than one method with the same name \n",
    "in a class in python. This is because method arguments in python do not have a type. \n",
    "A method accepting one argument can be called with an integer value, a string or a double."
   ]
  },
  {
   "cell_type": "code",
   "execution_count": null,
   "metadata": {},
   "outputs": [],
   "source": []
  },
  {
   "cell_type": "code",
   "execution_count": null,
   "metadata": {},
   "outputs": [],
   "source": []
  },
  {
   "cell_type": "code",
   "execution_count": null,
   "metadata": {},
   "outputs": [],
   "source": []
  }
 ],
 "metadata": {
  "kernelspec": {
   "display_name": "Python 3",
   "language": "python",
   "name": "python3"
  },
  "language_info": {
   "codemirror_mode": {
    "name": "ipython",
    "version": 3
   },
   "file_extension": ".py",
   "mimetype": "text/x-python",
   "name": "python",
   "nbconvert_exporter": "python",
   "pygments_lexer": "ipython3",
   "version": "3.8.5"
  }
 },
 "nbformat": 4,
 "nbformat_minor": 4
}
