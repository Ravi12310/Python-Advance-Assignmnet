{
 "cells": [
  {
   "cell_type": "code",
   "execution_count": null,
   "metadata": {},
   "outputs": [],
   "source": [
    "Q1. What is the relationship between classes and modules?\n",
    "\n",
    "\n",
    "module in python means it is like seperate package or module for example numpy is a seperate module or pacakge used for\n",
    "calculating the numerical python and there is lot of modules and packages which we will use to our need. Whereas classes \n",
    "means it is used as a reusable thing and it uses within a program."
   ]
  },
  {
   "cell_type": "code",
   "execution_count": null,
   "metadata": {},
   "outputs": [],
   "source": [
    "Q2. How do you make instances and classes?\n",
    "\n",
    "\n",
    "To create instances of a class, you call the class using class name and pass in whatever arguments its __init__ \n",
    "method accepts."
   ]
  },
  {
   "cell_type": "code",
   "execution_count": null,
   "metadata": {},
   "outputs": [],
   "source": [
    "Q3. Where and how should be class attributes created?\n",
    "\n",
    "\n",
    "Class attributes belong to the class itself they will be shared by all the instances. Such attributes are defined in the \n",
    "class body parts usually at the top, for legibility. Unlike class attributes, instance attributes are not shared by objects"
   ]
  },
  {
   "cell_type": "code",
   "execution_count": null,
   "metadata": {},
   "outputs": [],
   "source": [
    "Q4. Where and how are instance attributes created?\n",
    "\n",
    "\n",
    "Instance attributes are defined in the constructor. Defined directly inside a class. Defined inside a constructor \n",
    "using the self parameter. You can now access the count attribute after creating the objects."
   ]
  },
  {
   "cell_type": "code",
   "execution_count": null,
   "metadata": {},
   "outputs": [],
   "source": [
    "Q5. What does the term self in a Python class mean?\n",
    "\n",
    "\n",
    "self in a python defines in a class we define a keyword def and initialise the values and in the arguments it takes a\n",
    "first parameter as self and also which is not a rule for only self and we can use any of the word."
   ]
  },
  {
   "cell_type": "code",
   "execution_count": null,
   "metadata": {},
   "outputs": [],
   "source": [
    "Q6. How does a Python class handle operator overloading?\n",
    "\n",
    "\n",
    "Python operators work for built-in classes. But the same operator behaves differently with different types. \n",
    "For example, the + operator will perform arithmetic addition on two numbers, merge two lists, or concatenate two strings.\n",
    "This feature in Python that allows the same operator to have different meaning according to the context is called \n",
    "operator overloading."
   ]
  },
  {
   "cell_type": "code",
   "execution_count": null,
   "metadata": {},
   "outputs": [],
   "source": [
    "Q7. When do you consider allowing operator overloading of your classes?\n",
    "\n",
    "\n",
    "Python operators work for built-in classes. For example, the + operator will perform arithmetic addition on two \n",
    "numbers, merge two lists, or concatenate two strings. This feature in Python that allows the same operator to have \n",
    "different meaning according to the context is called operator overloading."
   ]
  },
  {
   "cell_type": "code",
   "execution_count": null,
   "metadata": {},
   "outputs": [],
   "source": [
    "Q8. What is the most popular form of operator overloading?\n",
    "\n",
    "\n",
    "Operator Overloading means giving extended meaning beyond their predefined operational meaning. For example operator + is \n",
    "used to add two integers as well as join two strings and merge two lists. It is achievable because '+' operator is \n",
    "overloaded by int class and str class."
   ]
  },
  {
   "cell_type": "code",
   "execution_count": null,
   "metadata": {},
   "outputs": [],
   "source": [
    "Q9. What are the two most important concepts to grasp in order to comprehend Python OOP code?\n",
    "\n",
    "\n",
    "There is a concepts in oops which has its special significant task and each one s important and we can use where ever we \n",
    "wants for reusability of the code."
   ]
  },
  {
   "cell_type": "code",
   "execution_count": null,
   "metadata": {},
   "outputs": [],
   "source": []
  },
  {
   "cell_type": "code",
   "execution_count": null,
   "metadata": {},
   "outputs": [],
   "source": []
  },
  {
   "cell_type": "code",
   "execution_count": null,
   "metadata": {},
   "outputs": [],
   "source": []
  }
 ],
 "metadata": {
  "kernelspec": {
   "display_name": "Python 3",
   "language": "python",
   "name": "python3"
  },
  "language_info": {
   "codemirror_mode": {
    "name": "ipython",
    "version": 3
   },
   "file_extension": ".py",
   "mimetype": "text/x-python",
   "name": "python",
   "nbconvert_exporter": "python",
   "pygments_lexer": "ipython3",
   "version": "3.8.5"
  }
 },
 "nbformat": 4,
 "nbformat_minor": 4
}
